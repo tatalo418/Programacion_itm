{
  "nbformat": 4,
  "nbformat_minor": 0,
  "metadata": {
    "colab": {
      "provenance": [],
      "authorship_tag": "ABX9TyNckVV1/lEiKmuTnoEwtdpt",
      "include_colab_link": true
    },
    "kernelspec": {
      "name": "python3",
      "display_name": "Python 3"
    },
    "language_info": {
      "name": "python"
    }
  },
  "cells": [
    {
      "cell_type": "markdown",
      "metadata": {
        "id": "view-in-github",
        "colab_type": "text"
      },
      "source": [
        "<a href=\"https://colab.research.google.com/github/tatalo418/Programacion_itm/blob/main/Trabajos_independ.ipynb\" target=\"_parent\"><img src=\"https://colab.research.google.com/assets/colab-badge.svg\" alt=\"Open In Colab\"/></a>"
      ]
    },
    {
      "cell_type": "code",
      "execution_count": null,
      "metadata": {
        "colab": {
          "base_uri": "https://localhost:8080/"
        },
        "id": "c0DI-tr9cwr-",
        "outputId": "4de455c2-0344-4234-e730-5ee403cf3c8e"
      },
      "outputs": [
        {
          "output_type": "stream",
          "name": "stdout",
          "text": [
            "2014\n",
            "2009\n",
            "2020\n",
            "feliz año bisiesto\n",
            "2018\n",
            "feliz año bisiesto\n",
            "1997\n",
            "feliz año bisiesto\n"
          ]
        }
      ],
      "source": [
        "dates = [2014,2009,2020, 2018,1997]\n",
        "N = len(dates)\n",
        "for i in range(N):\n",
        "        print(dates[i])\n",
        "        if i >= 2:\n",
        "                print (\"feliz año bisiesto\")"
      ]
    },
    {
      "cell_type": "code",
      "source": [
        "dates = [2014,2009,2020, 2018,1997]\n",
        "N = len(dates)\n",
        "for i in range(N):\n",
        "        print(dates[i])\n",
        "        if i >= 2:\n",
        "                print (\"feliz año bisiesto\")"
      ],
      "metadata": {
        "colab": {
          "base_uri": "https://localhost:8080/"
        },
        "id": "Ir2g-7ILdpLO",
        "outputId": "d5ea16d6-e265-4dbc-8591-3ef8c2589f15"
      },
      "execution_count": null,
      "outputs": [
        {
          "output_type": "stream",
          "name": "stdout",
          "text": [
            "2014\n",
            "2009\n",
            "2020\n",
            "feliz año bisiesto\n",
            "2018\n",
            "feliz año bisiesto\n",
            "1997\n",
            "feliz año bisiesto\n"
          ]
        }
      ]
    },
    {
      "cell_type": "code",
      "source": [
        "tipo_equipo = {\n",
        "    \"portatil\": 1,\n",
        "    \"desktop\" : 2,\n",
        "    \"tablet\"  : 3\n",
        "}\n",
        "\n",
        "print(tipo_equipo)\n",
        "print(\"\\n\")\n",
        "\n",
        "for equipo in tipo_equipo.keys():\n",
        " print(equipo)\n",
        " print(\"\\n\")\n",
        "\n",
        "for equipo,cantidad in tipo_equipo.items():\n",
        "    print(\"tenemos {} de {}\".format(cantidad,equipo))"
      ],
      "metadata": {
        "colab": {
          "base_uri": "https://localhost:8080/"
        },
        "id": "2pNzzv2khOfC",
        "outputId": "77a7718d-782b-40e7-9f2d-9e53b1f27dfa"
      },
      "execution_count": 13,
      "outputs": [
        {
          "output_type": "stream",
          "name": "stdout",
          "text": [
            "{'portatil': 1, 'desktop': 2, 'tablet': 3}\n",
            "\n",
            "\n",
            "portatil\n",
            "\n",
            "\n",
            "desktop\n",
            "\n",
            "\n",
            "tablet\n",
            "\n",
            "\n",
            "tenemos 1 de portatil\n",
            "tenemos 2 de desktop\n",
            "tenemos 3 de tablet\n"
          ]
        }
      ]
    },
    {
      "cell_type": "code",
      "source": [
        "TEST = \"ALEGRIA\"\n",
        "for letra in TEST :\n",
        "    print(\" a ti te describe la palabra {}\".format(letra))"
      ],
      "metadata": {
        "id": "BTN3iRZUh2_k",
        "colab": {
          "base_uri": "https://localhost:8080/"
        },
        "outputId": "2c1fbf20-0eca-4224-c048-988463eee102"
      },
      "execution_count": 23,
      "outputs": [
        {
          "output_type": "stream",
          "name": "stdout",
          "text": [
            " a ti te describe la palabra A\n",
            " a ti te describe la palabra L\n",
            " a ti te describe la palabra E\n",
            " a ti te describe la palabra G\n",
            " a ti te describe la palabra R\n",
            " a ti te describe la palabra I\n",
            " a ti te describe la palabra A\n"
          ]
        }
      ]
    },
    {
      "cell_type": "code",
      "source": [
        "test_str= \"47.8\"\n",
        "\n",
        "print(type(test_str))\n",
        "\n",
        "try:\n",
        "    #el programa intenta realizar esta acción\n",
        "    test_int = float(test_str)\n",
        "    print(\"tambien puede ser un decimal\")\n",
        "except :\n",
        "    print(\"Error!\")\n"
      ],
      "metadata": {
        "colab": {
          "base_uri": "https://localhost:8080/"
        },
        "id": "4EAyXsUZsXT8",
        "outputId": "1463ef8f-4ab4-4ce5-f09c-4c668383e6fa"
      },
      "execution_count": 30,
      "outputs": [
        {
          "output_type": "stream",
          "name": "stdout",
          "text": [
            "<class 'str'>\n",
            "tambien puede ser un decimal\n"
          ]
        }
      ]
    },
    {
      "cell_type": "code",
      "source": [
        "from random import choice\n",
        "decimales = [2.20,2.30,2.40,2.50,2.60]\n",
        "cualquiera = choice(decimales)\n",
        "print (cualquiera)"
      ],
      "metadata": {
        "colab": {
          "base_uri": "https://localhost:8080/"
        },
        "id": "f84rDD_Cv2EY",
        "outputId": "6d79bc09-12a2-4f5d-8dcb-39b9af0db044"
      },
      "execution_count": 65,
      "outputs": [
        {
          "output_type": "stream",
          "name": "stdout",
          "text": [
            "2.2\n"
          ]
        }
      ]
    },
    {
      "cell_type": "code",
      "source": [
        "i = 3\n",
        "vaca = 8 + i\n",
        "print(vaca)\n",
        "\n",
        "if vaca >= 10:\n",
        "    print(\"tienes unas vaca eneorme\")\n",
        "else :\n",
        "    print(\"aun tu vaca es demasiado pequeña\")\n",
        "\n",
        "i = 1\n",
        "\n"
      ],
      "metadata": {
        "colab": {
          "base_uri": "https://localhost:8080/"
        },
        "id": "Wf3UuDU4yG23",
        "outputId": "dc6f01c1-58a0-4b59-b21a-bca9bfd89be7"
      },
      "execution_count": 82,
      "outputs": [
        {
          "output_type": "stream",
          "name": "stdout",
          "text": [
            "11\n",
            "tienes unas vaca eneorme\n"
          ]
        }
      ]
    },
    {
      "cell_type": "code",
      "source": [
        "i = 1\n",
        "vaca = 6 + i\n",
        "\n",
        "while vaca <= 10:\n",
        "    print(f\"i = {i}, vaca = {vaca}\")\n",
        "\n",
        "    if vaca >= 10:\n",
        "        print(\"Tienes una vaca enorme 🐄\")\n",
        "    else:\n",
        "        print(\"Aún tu vaca es demasiado pequeña 🐮\")\n",
        "\n",
        "    i += 1\n",
        "    vaca = 6 + i  # actualizar vaca con el nuevo i\n",
        "    print(\"---\")\n",
        "\n",
        ""
      ],
      "metadata": {
        "colab": {
          "base_uri": "https://localhost:8080/"
        },
        "id": "iIiZDtr7z3sD",
        "outputId": "a86ab67a-1ed1-49f1-d7de-44eb9844a4b1"
      },
      "execution_count": 1,
      "outputs": [
        {
          "output_type": "stream",
          "name": "stdout",
          "text": [
            "i = 1, vaca = 7\n",
            "Aún tu vaca es demasiado pequeña 🐮\n",
            "---\n",
            "i = 2, vaca = 8\n",
            "Aún tu vaca es demasiado pequeña 🐮\n",
            "---\n",
            "i = 3, vaca = 9\n",
            "Aún tu vaca es demasiado pequeña 🐮\n",
            "---\n",
            "i = 4, vaca = 10\n",
            "Tienes una vaca enorme 🐄\n",
            "---\n"
          ]
        }
      ]
    },
    {
      "cell_type": "markdown",
      "source": [
        "FUNCIONES"
      ],
      "metadata": {
        "id": "i5S1PQyCx_u7"
      }
    },
    {
      "cell_type": "code",
      "source": [
        "def saludo():\n",
        "    print(\"Bongiorno Princesa!!!\")\n",
        "\n",
        "print(type(saludo))     # Se puede observar que el tipo de \"saludo()\" es una función\n",
        "\n",
        "saludo() # esta funcion permite evita utlizar el print"
      ],
      "metadata": {
        "id": "rdGq1CBOAn0Z",
        "outputId": "2d5b5acb-cf5c-4679-83a7-bccada6b41a6",
        "colab": {
          "base_uri": "https://localhost:8080/"
        }
      },
      "execution_count": 2,
      "outputs": [
        {
          "output_type": "stream",
          "name": "stdout",
          "text": [
            "<class 'function'>\n",
            "Bongiorno Princesa!!!\n"
          ]
        }
      ]
    },
    {
      "cell_type": "code",
      "source": [
        "def saludo(nom):\n",
        "    print(f\"Es un gusto atenderle {nom}\")\n",
        "\n",
        "\n",
        "saludo(\"Willi\")\n",
        "\n",
        "saludo(\"Pontoni\")\n",
        "\n",
        "saludo(\"a usted\")"
      ],
      "metadata": {
        "id": "ZW2uH3BKAuV9",
        "outputId": "b68f0bf6-dfbd-4669-b07d-b04e3d3823de",
        "colab": {
          "base_uri": "https://localhost:8080/"
        }
      },
      "execution_count": 2,
      "outputs": [
        {
          "output_type": "stream",
          "name": "stdout",
          "text": [
            "Es un gusto atenderle Willi\n",
            "Es un gusto atenderle Pontoni\n",
            "Es un gusto atenderle a usted\n"
          ]
        }
      ]
    },
    {
      "cell_type": "code",
      "source": [
        "def sal_comi (x,y):\n",
        "    sal = x * y\n",
        "    com = sal * 0.30\n",
        "    return sal, com\n",
        "\n",
        "total = sal_comi(10000,80)\n",
        "\n",
        "print(total)\n",
        "print(type(total))"
      ],
      "metadata": {
        "id": "o1BDsDMz59rI",
        "outputId": "d5d8b66b-9783-40f9-8d14-09e4cc0720e9",
        "colab": {
          "base_uri": "https://localhost:8080/"
        }
      },
      "execution_count": 3,
      "outputs": [
        {
          "output_type": "stream",
          "name": "stdout",
          "text": [
            "(800000, 240000.0)\n",
            "<class 'tuple'>\n"
          ]
        }
      ]
    },
    {
      "cell_type": "markdown",
      "source": [
        "Funciones Lambda"
      ],
      "metadata": {
        "id": "PpYIGclC60n3"
      }
    },
    {
      "cell_type": "code",
      "source": [
        "cuadrados = lambda x,y: x + y\n",
        "\n",
        "total = cuadrados (7,4)\n",
        "\n",
        "print(total)"
      ],
      "metadata": {
        "id": "VKzMluei64VW",
        "outputId": "c7192666-955f-4917-eba9-18e0bb8f3dfa",
        "colab": {
          "base_uri": "https://localhost:8080/"
        }
      },
      "execution_count": 4,
      "outputs": [
        {
          "output_type": "stream",
          "name": "stdout",
          "text": [
            "11\n"
          ]
        }
      ]
    },
    {
      "cell_type": "code",
      "source": [
        "resultado = cuadrados (total,25)\n",
        "print(resultado)"
      ],
      "metadata": {
        "id": "qwXEmpqw7Fs5",
        "outputId": "09dcdcd6-5a92-4ba3-ee3b-7a1542850966",
        "colab": {
          "base_uri": "https://localhost:8080/"
        }
      },
      "execution_count": 5,
      "outputs": [
        {
          "output_type": "stream",
          "name": "stdout",
          "text": [
            "36\n"
          ]
        }
      ]
    },
    {
      "cell_type": "code",
      "source": [
        "class Perro:\n",
        "    def __init__(self, nombre, edad):\n",
        "        # Atributos: variables de la clase\n",
        "        self.nombre = nombre\n",
        "        self.edad = edad\n",
        "\n",
        "    def ladrar(self):\n",
        "        # Método: acción que realiza la clase\n",
        "        print(f\"{self.nombre} dice: ¡Guau!\")\n",
        "\n",
        "    def mostrar_edad(self):\n",
        "        # Otro método\n",
        "        print(f\"{self.nombre} tiene {self.edad} años.\")\n",
        "\n",
        "    def morder(self):\n",
        "        print(f\"yo {self.nombre}, te voy a morder si no te avispas\")\n",
        "\n",
        "        # Crear un objeto (instancia) de la clase Perro\n",
        "mi_perro = Perro(\"Fido\", 4)\n",
        "mi2_perro = Perro(\"Luna\", 2)\n",
        "\n",
        "# Usar los métodos de la clase\n",
        "mi_perro.ladrar()       # Fido dice: ¡Guau!\n",
        "mi_perro.mostrar_edad() # Fido tiene 4 años.\n",
        "mi_perro.morder()       # Fido te va morder si no te avispas\n",
        "\n",
        "mi2_perro.ladrar()       # Luna dice: ¡sapo!\n",
        "mi2_perro.mostrar_edad() # Luna tiene 2 años.\n",
        "mi2_perro.morder()       # Luna te va morder si no te avispas"
      ],
      "metadata": {
        "id": "puhtSalY8bZO",
        "outputId": "6cd3414a-dd69-432a-9fea-a964d969a68f",
        "colab": {
          "base_uri": "https://localhost:8080/"
        }
      },
      "execution_count": 38,
      "outputs": [
        {
          "output_type": "stream",
          "name": "stdout",
          "text": [
            "Fido dice: ¡Guau!\n",
            "Fido tiene 4 años.\n",
            "yo Fido, te voy a morder si no te avispas\n",
            "Luna dice: ¡Guau!\n",
            "Luna tiene 2 años.\n",
            "yo Luna, te voy a morder si no te avispas\n"
          ]
        }
      ]
    },
    {
      "cell_type": "code",
      "source": [
        "class Perro:\n",
        "    def __init__(self, nombre, edad):\n",
        "        # Atributos: variables de la clase\n",
        "        self.nombre = nombre\n",
        "        self.edad = edad\n",
        "\n",
        "        # Crear un objeto (instancia) de la clase Perro\n",
        "mi_perro = Perro(\"Fido\", 4)\n"
      ],
      "metadata": {
        "id": "CCnLnL66MNuO"
      },
      "execution_count": 22,
      "outputs": []
    },
    {
      "cell_type": "code",
      "source": [
        "class Perro:\n",
        "    def ladrar(self):\n",
        "        print(\"¡Guau!\")\n",
        "\n",
        "# Crear el objeto\n",
        "mi_perro = Perro()\n",
        "\n",
        "# Llamar al método\n",
        "mi_perro.ladrar()"
      ],
      "metadata": {
        "id": "_eYlHkMJDTcG",
        "outputId": "8565af67-19e1-43f9-8f06-de11d7b9e356",
        "colab": {
          "base_uri": "https://localhost:8080/"
        }
      },
      "execution_count": 13,
      "outputs": [
        {
          "output_type": "stream",
          "name": "stdout",
          "text": [
            "¡Guau!\n"
          ]
        }
      ]
    },
    {
      "cell_type": "code",
      "source": [
        "class Perro:\n",
        "    def __init__(self, nombre):\n",
        "        self.nombre = nombre  # Cada perro guarda su propio nombre\n",
        "\n",
        "    def saludar(self):\n",
        "        print(f\"Guau! Soy {self.nombre}\")\n",
        "\n",
        "# Crear varios perros\n",
        "perro1 = Perro(\"Fido\")\n",
        "perro2 = Perro(\"Luna\")\n",
        "perro3 = Perro(\"Toby\")\n",
        "\n",
        "# Cada uno tiene su propio nombre, gracias a self\n",
        "perro1.saludar()  # Guau! Soy Fido\n",
        "perro2.saludar()  # Guau! Soy Luna\n",
        "perro3.saludar()  # Guau! Soy Toby"
      ],
      "metadata": {
        "id": "nsppUWd7I9HG",
        "outputId": "64b16525-b642-4b5d-c5b5-f4322d303c6b",
        "colab": {
          "base_uri": "https://localhost:8080/"
        }
      },
      "execution_count": 14,
      "outputs": [
        {
          "output_type": "stream",
          "name": "stdout",
          "text": [
            "Guau! Soy Fido\n",
            "Guau! Soy Luna\n",
            "Guau! Soy Toby\n"
          ]
        }
      ]
    },
    {
      "cell_type": "code",
      "source": [
        "class Perro:\n",
        "    def __init__(self, nombre, edad, sonido):\n",
        "        self.nombre = nombre\n",
        "        self.edad = edad\n",
        "        self.sonido = sonido\n",
        "\n",
        "    def ladrar(self):\n",
        "        print(f\"{self.nombre}, tiene {self.edad}, y dice: {self.sonido}\")\n",
        "\n",
        "\n",
        "p1 = Perro(\"Fido\", 4, \"¡Guau!\")\n",
        "p2 = Perro(\"Luna\", 2, \"¡Sapo!\")\n",
        "\n",
        "p1.ladrar()  # Fido dice: ¡Guau!\n",
        "p2.ladrar()  # Luna dice: ¡Sapo!"
      ],
      "metadata": {
        "id": "rZGwf43qPB5I",
        "outputId": "598e4627-d5fc-4511-cafc-062bda8a676a",
        "colab": {
          "base_uri": "https://localhost:8080/"
        }
      },
      "execution_count": 36,
      "outputs": [
        {
          "output_type": "stream",
          "name": "stdout",
          "text": [
            "Fido, tiene 4, y dice: ¡Guau!\n",
            "Luna, tiene 2, y dice: ¡Sapo!\n"
          ]
        }
      ]
    }
  ]
}