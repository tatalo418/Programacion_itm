{
  "nbformat": 4,
  "nbformat_minor": 0,
  "metadata": {
    "colab": {
      "provenance": []
    },
    "kernelspec": {
      "name": "python3",
      "display_name": "Python 3"
    },
    "language_info": {
      "name": "python"
    }
  },
  "cells": [
    {
      "cell_type": "code",
      "execution_count": null,
      "metadata": {
        "id": "-4K8kITu0nPi"
      },
      "outputs": [],
      "source": []
    },
    {
      "cell_type": "markdown",
      "source": [
        "# 1. Explicacion del valor presente Neto\n",
        "\n",
        "El VPN es una medida financiera que te permite evaluar la viabilidad de un proyecto, calculando la diferencia entre el valor presente de los flujos de caja futuros y la inversión inicial. Si el VPN es positivo, el proyecto es rentable; si es negativo, no lo es.\n",
        "\n",
        "$$\n",
        "VPN = \\sum_{t=0}^{n} \\frac{F_t}{(1+r)^t}\n",
        "$$\n",
        "\n",
        "### **Donde:**\n",
        "\n",
        "$$ Ft = \\text {Flujo de caja en el periodo t} $$  \n",
        "$$ r = \\text {es la tasa de descuento} $$  \n",
        "$$ Co = \\text {es la inversión inicial} $$\n",
        "\n",
        "\n",
        "## 2. Descripción del proyecto\n",
        "\n",
        "En otra celda de Markdown, describe el proyecto. Supongamos que la empresa está considerando un proyecto con una inversión inicial de 10000 y espera recibir flujos de caja de 3000 en cada uno de los próximos tres años. La tasa de descuento es del 5%.\n",
        "\n",
        "\n"
      ],
      "metadata": {
        "id": "shpR4vhB1EfA"
      }
    },
    {
      "cell_type": "code",
      "source": [
        "inversion_inicial = 10000\n",
        "flujo_ano_1 = 4000\n",
        "flujo_ano_2 = 4000\n",
        "flujo_ano_3 = 4000\n",
        "tasa_descuento = 0.05\n",
        "\n",
        "vpn = (flujo_ano_1 / (1 + tasa_descuento)**1) + \\\n",
        "      (flujo_ano_2 / (1 + tasa_descuento)**2) + \\\n",
        "      (flujo_ano_3 / (1 + tasa_descuento)**3) - inversion_inicial\n",
        "\n",
        "print(\" el valor presente neto (VPN) es:\\n\", vpn)\n",
        "\n",
        "if vpn > 0:\n",
        "    print(\"El proyecto es rentable\")\n",
        "else:\n",
        "    print(\"El proyecto no es rentable\")\n",
        ""
      ],
      "metadata": {
        "colab": {
          "base_uri": "https://localhost:8080/"
        },
        "id": "Q9G6QblGB2Tp",
        "outputId": "f06a5e09-e9e1-4690-81ce-1c9b1ec69183"
      },
      "execution_count": 13,
      "outputs": [
        {
          "output_type": "stream",
          "name": "stdout",
          "text": [
            " el valor presente neto (VPN) es:\n",
            " 892.9921174819137\n",
            "El proyecto es rentable\n"
          ]
        }
      ]
    }
  ]
}