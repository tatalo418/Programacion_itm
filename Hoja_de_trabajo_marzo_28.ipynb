{
  "nbformat": 4,
  "nbformat_minor": 0,
  "metadata": {
    "colab": {
      "provenance": [],
      "authorship_tag": "ABX9TyMEDv5gnZh/zdcASSPFNmbn",
      "include_colab_link": true
    },
    "kernelspec": {
      "name": "python3",
      "display_name": "Python 3"
    },
    "language_info": {
      "name": "python"
    }
  },
  "cells": [
    {
      "cell_type": "markdown",
      "metadata": {
        "id": "view-in-github",
        "colab_type": "text"
      },
      "source": [
        "<a href=\"https://colab.research.google.com/github/tatalo418/Programacion_itm/blob/main/Hoja_de_trabajo_marzo_28.ipynb\" target=\"_parent\"><img src=\"https://colab.research.google.com/assets/colab-badge.svg\" alt=\"Open In Colab\"/></a>"
      ]
    },
    {
      "cell_type": "code",
      "source": [
        "Primera = \"holamundo\"\n",
        "print (Primera)\n",
        "print('\\n')\n",
        "print(Primera.upper())\n",
        "\n",
        "\n",
        "print(type(Primera))"
      ],
      "metadata": {
        "id": "f49DBBL3h4cN",
        "colab": {
          "base_uri": "https://localhost:8080/"
        },
        "outputId": "23dc7e81-26ce-4729-bc56-66de1e58a37c"
      },
      "execution_count": null,
      "outputs": [
        {
          "output_type": "stream",
          "name": "stdout",
          "text": [
            "holamundo\n",
            "\n",
            "\n",
            "HOLAMUNDO\n",
            "<class 'str'>\n"
          ]
        }
      ]
    },
    {
      "cell_type": "code",
      "source": [
        "nom = \"santiago\"\n",
        "animal = \"Leon\"\n",
        "present = \"buen día, mi nombre es {} y soy un {} \"\n",
        "\n",
        "print(present.format(nom,animal))\n",
        "print(f\"voy a presentarme, mi nombre es {nom}\")"
      ],
      "metadata": {
        "id": "-lcHPCInjg9p",
        "colab": {
          "base_uri": "https://localhost:8080/"
        },
        "outputId": "8215aa7a-653d-442a-d915-af3a63219437"
      },
      "execution_count": null,
      "outputs": [
        {
          "output_type": "stream",
          "name": "stdout",
          "text": [
            "buen día, mi nombre es santiago y soy un Leon \n",
            "voy a presentarme, mi nombre es santiago\n"
          ]
        }
      ]
    },
    {
      "cell_type": "markdown",
      "source": [
        "Crear lista en phyton"
      ],
      "metadata": {
        "id": "53N7gNp3r1lR"
      }
    },
    {
      "cell_type": "code",
      "source": [
        "hermanos = [\"tomas\",\"susana\",\"esteban\",\"cualquiera\"]\n",
        "print(hermanos)\n",
        "print(\"\\n\")\n",
        "print(type(hermanos))"
      ],
      "metadata": {
        "id": "acSBjV84r34J",
        "colab": {
          "base_uri": "https://localhost:8080/"
        },
        "outputId": "61bff5d1-6a31-4a70-a866-635d62832a66"
      },
      "execution_count": null,
      "outputs": [
        {
          "output_type": "stream",
          "name": "stdout",
          "text": [
            "['tomas', 'susana', 'esteban', 'cualquiera']\n",
            "\n",
            "\n",
            "<class 'list'>\n"
          ]
        }
      ]
    },
    {
      "cell_type": "markdown",
      "source": [
        "Seleccionar un dato en especifico de la lista de datos"
      ],
      "metadata": {
        "id": "9KiWPhzMtm2h"
      }
    },
    {
      "cell_type": "code",
      "source": [
        "print(hermanos[1])\n",
        "print(\"\\n\")\n",
        "hermano1 = hermanos[1]\n",
        "print(hermano1)"
      ],
      "metadata": {
        "id": "8MQ_-b92ttvI",
        "colab": {
          "base_uri": "https://localhost:8080/"
        },
        "outputId": "dfcb31d7-50c3-4853-9b86-392dab5e9a47"
      },
      "execution_count": null,
      "outputs": [
        {
          "output_type": "stream",
          "name": "stdout",
          "text": [
            "susana\n",
            "\n",
            "\n",
            "susana\n"
          ]
        }
      ]
    },
    {
      "cell_type": "markdown",
      "source": [
        "Para seleccionar los 2 primeros datos de la lista (este es un slice que sirve para tomar las posiciones del 0 al 2, sin incluir el 2.)"
      ],
      "metadata": {
        "id": "cp1a2m77vP_L"
      }
    },
    {
      "cell_type": "code",
      "source": [
        "print(hermanos[:2])"
      ],
      "metadata": {
        "colab": {
          "base_uri": "https://localhost:8080/"
        },
        "id": "ZcZptyjivX5D",
        "outputId": "70017df1-7957-44ce-f2cc-d23c8d980f94"
      },
      "execution_count": null,
      "outputs": [
        {
          "output_type": "stream",
          "name": "stdout",
          "text": [
            "['tomas', 'susana']\n"
          ]
        }
      ]
    },
    {
      "cell_type": "markdown",
      "source": [
        "Para seleccionar los ultimas 3 posiciones de la lista ( este es un slice que sirve para tomar la posición entregada, de ahi hacia adelante, incluyendo la posición dada)"
      ],
      "metadata": {
        "id": "CBR0FKzRvkLv"
      }
    },
    {
      "cell_type": "code",
      "source": [
        "print(hermanos[1:])"
      ],
      "metadata": {
        "colab": {
          "base_uri": "https://localhost:8080/"
        },
        "id": "s8H5ipZ6vsqy",
        "outputId": "bb661635-3e2c-481b-9a21-812afd35157e"
      },
      "execution_count": null,
      "outputs": [
        {
          "output_type": "stream",
          "name": "stdout",
          "text": [
            "['susana', 'esteban', 'cualquiera']\n"
          ]
        }
      ]
    },
    {
      "cell_type": "markdown",
      "source": [
        "El cuenta 3 posiciones de atras hacia adelante e incluye la tercera posicion"
      ],
      "metadata": {
        "id": "hcrYlJ1zxceG"
      }
    },
    {
      "cell_type": "code",
      "source": [
        "print(hermanos[-3:])"
      ],
      "metadata": {
        "colab": {
          "base_uri": "https://localhost:8080/"
        },
        "id": "rUslG5dbyzyu",
        "outputId": "4e0a6a0b-5394-4dd2-bf04-8ae86404e6a4"
      },
      "execution_count": null,
      "outputs": [
        {
          "output_type": "stream",
          "name": "stdout",
          "text": [
            "['susana', 'esteban', 'cualquiera']\n"
          ]
        }
      ]
    },
    {
      "cell_type": "markdown",
      "source": [
        "El cuenta una posicion hacia atras y las toma todas a excepcion de la posicion dada"
      ],
      "metadata": {
        "id": "m42QCRxj0Rt4"
      }
    },
    {
      "cell_type": "code",
      "source": [
        "print(hermanos[:-1])"
      ],
      "metadata": {
        "colab": {
          "base_uri": "https://localhost:8080/"
        },
        "id": "NS4OyeFK0UoW",
        "outputId": "f18627dc-af34-4a9f-be5f-6a48ec003462"
      },
      "execution_count": null,
      "outputs": [
        {
          "output_type": "stream",
          "name": "stdout",
          "text": [
            "['tomas', 'susana', 'esteban']\n"
          ]
        }
      ]
    },
    {
      "cell_type": "markdown",
      "source": [
        "saltar elementos de la lista n usando codigo\n",
        "para numeros pares utilizamos el siguiente codigo\n",
        "lista[inicio:fin:paso]"
      ],
      "metadata": {
        "id": "6ooGe5Eec6FS"
      }
    },
    {
      "cell_type": "code",
      "source": [
        "print(hermanos[1::2])"
      ],
      "metadata": {
        "colab": {
          "base_uri": "https://localhost:8080/"
        },
        "id": "eutFxUbkdGfu",
        "outputId": "fdb7c597-768a-494e-db57-bd834586fff1"
      },
      "execution_count": null,
      "outputs": [
        {
          "output_type": "stream",
          "name": "stdout",
          "text": [
            "['susana', 'cualquiera']\n"
          ]
        }
      ]
    },
    {
      "cell_type": "markdown",
      "source": [
        "Para numeros impares"
      ],
      "metadata": {
        "id": "hnQppE22d4-v"
      }
    },
    {
      "cell_type": "code",
      "source": [
        "print(hermanos[::2])"
      ],
      "metadata": {
        "colab": {
          "base_uri": "https://localhost:8080/"
        },
        "id": "MXtMG1bUd7Eg",
        "outputId": "a914e3b8-86ef-4148-e55e-ceedd400b548"
      },
      "execution_count": null,
      "outputs": [
        {
          "output_type": "stream",
          "name": "stdout",
          "text": [
            "['tomas', 'esteban']\n"
          ]
        }
      ]
    },
    {
      "cell_type": "markdown",
      "source": [
        "Para optener el sentido inverso de la lista, el orden debe ser un numero negativo"
      ],
      "metadata": {
        "id": "jsiPZTLDeR82"
      }
    },
    {
      "cell_type": "code",
      "source": [
        "print(hermanos[::-1])"
      ],
      "metadata": {
        "colab": {
          "base_uri": "https://localhost:8080/"
        },
        "id": "E2Z8nMhYeU5d",
        "outputId": "c69f5fe7-a24d-4aba-a315-9b99d76af5ba"
      },
      "execution_count": null,
      "outputs": [
        {
          "output_type": "stream",
          "name": "stdout",
          "text": [
            "['cualquiera', 'esteban', 'susana', 'tomas']\n"
          ]
        }
      ]
    },
    {
      "cell_type": "markdown",
      "source": [
        "Longitud de la lista\n",
        "La longitud de una lista se aprecia utilizando el comando len"
      ],
      "metadata": {
        "id": "Je_p-TLhezuh"
      }
    },
    {
      "cell_type": "code",
      "source": [
        "print(len(hermanos))"
      ],
      "metadata": {
        "colab": {
          "base_uri": "https://localhost:8080/"
        },
        "id": "2X71K-03e0bt",
        "outputId": "8978c20d-dfee-4e43-b8a5-999f18be3851"
      },
      "execution_count": null,
      "outputs": [
        {
          "output_type": "stream",
          "name": "stdout",
          "text": [
            "4\n"
          ]
        }
      ]
    },
    {
      "cell_type": "markdown",
      "source": [
        "**utilicemos codigo para avanzar **"
      ],
      "metadata": {
        "id": "JBPmcFTPf6Ls"
      }
    },
    {
      "cell_type": "code",
      "source": [
        "numeros = [\"5\",\"10\",\"15\",\"20\",\"25\",\"30\",\"35\",\"40\"]\n",
        "print(numeros)\n",
        "print(\"\\n\")\n",
        "print(numeros[5])\n",
        "seleccion = (numeros[5])\n",
        "print(seleccion)\n"
      ],
      "metadata": {
        "id": "Dom4VQ0igAX4",
        "colab": {
          "base_uri": "https://localhost:8080/"
        },
        "outputId": "0d36ab2a-80d8-42db-be19-3229fe4a3de3"
      },
      "execution_count": null,
      "outputs": [
        {
          "output_type": "stream",
          "name": "stdout",
          "text": [
            "['5', '10', '15', '20', '25', '30', '35', '40']\n",
            "\n",
            "\n",
            "30\n",
            "30\n"
          ]
        }
      ]
    },
    {
      "cell_type": "markdown",
      "source": [
        "Ahoa utilicemos lo de seleccionar posiciones algunas por ejemplo pares"
      ],
      "metadata": {
        "id": "H3Hd63xcgsQb"
      }
    },
    {
      "cell_type": "code",
      "source": [
        "print(numeros[1::2])"
      ],
      "metadata": {
        "colab": {
          "base_uri": "https://localhost:8080/"
        },
        "id": "CngiKuLdgyT7",
        "outputId": "e14773a4-5718-4e55-cc46-a6eaeff4ba19"
      },
      "execution_count": null,
      "outputs": [
        {
          "output_type": "stream",
          "name": "stdout",
          "text": [
            "['10', '20', '30', '40']\n"
          ]
        }
      ]
    },
    {
      "cell_type": "markdown",
      "source": [
        "Ahora impares"
      ],
      "metadata": {
        "id": "34uenE50hKg7"
      }
    },
    {
      "cell_type": "code",
      "source": [
        "print(numeros[::2])"
      ],
      "metadata": {
        "colab": {
          "base_uri": "https://localhost:8080/"
        },
        "id": "00xrMlXbhMKW",
        "outputId": "982b7cfc-1c96-4bbf-bd2c-a97048d2e274"
      },
      "execution_count": null,
      "outputs": [
        {
          "output_type": "stream",
          "name": "stdout",
          "text": [
            "['5', '15', '25', '35']\n"
          ]
        }
      ]
    },
    {
      "cell_type": "markdown",
      "source": [
        "Ahora de la posicion 0 en adelante, sin incluir la posicion 4"
      ],
      "metadata": {
        "id": "_sd6UEKEhUfB"
      }
    },
    {
      "cell_type": "code",
      "source": [
        "print(numeros[:4])"
      ],
      "metadata": {
        "colab": {
          "base_uri": "https://localhost:8080/"
        },
        "id": "jZv_thECha0d",
        "outputId": "641dea2b-1ed4-462d-b196-03d01449759b"
      },
      "execution_count": null,
      "outputs": [
        {
          "output_type": "stream",
          "name": "stdout",
          "text": [
            "['5', '10', '15', '20']\n"
          ]
        }
      ]
    },
    {
      "cell_type": "markdown",
      "source": [
        "Ahora de la posicion 4 hacia adelante, incluyendo la posicion 4"
      ],
      "metadata": {
        "id": "_VVXPoCGiX1D"
      }
    },
    {
      "cell_type": "code",
      "source": [
        "print(numeros[4:])"
      ],
      "metadata": {
        "colab": {
          "base_uri": "https://localhost:8080/"
        },
        "id": "uVEu4eFjihPl",
        "outputId": "f4a61d72-97f1-4e8f-8cb8-ba6b4e9e33cd"
      },
      "execution_count": null,
      "outputs": [
        {
          "output_type": "stream",
          "name": "stdout",
          "text": [
            "['25', '30', '35', '40']\n"
          ]
        }
      ]
    },
    {
      "cell_type": "markdown",
      "source": [
        "Utilicemos posiciones negativas"
      ],
      "metadata": {
        "id": "EZRjEsk-qte9"
      }
    },
    {
      "cell_type": "code",
      "source": [
        "print(numeros[:-1])"
      ],
      "metadata": {
        "colab": {
          "base_uri": "https://localhost:8080/"
        },
        "id": "uyW--arlqwia",
        "outputId": "e8a8c26c-511f-4734-bac0-0488505f3a9f"
      },
      "execution_count": null,
      "outputs": [
        {
          "output_type": "stream",
          "name": "stdout",
          "text": [
            "['5', '10', '15', '20', '25', '30', '35']\n"
          ]
        }
      ]
    },
    {
      "cell_type": "code",
      "source": [
        "print(numeros[-1:])"
      ],
      "metadata": {
        "colab": {
          "base_uri": "https://localhost:8080/"
        },
        "id": "HEQ3R9CRrgBo",
        "outputId": "9d0964e8-4582-4d19-eeff-209cbf215a56"
      },
      "execution_count": null,
      "outputs": [
        {
          "output_type": "stream",
          "name": "stdout",
          "text": [
            "['40']\n"
          ]
        }
      ]
    },
    {
      "cell_type": "markdown",
      "source": [
        "Lista de numeros inversa"
      ],
      "metadata": {
        "id": "8xXncH-tqCwG"
      }
    },
    {
      "cell_type": "code",
      "source": [
        "print(numeros[::-1])"
      ],
      "metadata": {
        "colab": {
          "base_uri": "https://localhost:8080/"
        },
        "id": "Z77dMs8GqNdL",
        "outputId": "9e2b93ef-757b-46c3-d853-e978f09362d7"
      },
      "execution_count": null,
      "outputs": [
        {
          "output_type": "stream",
          "name": "stdout",
          "text": [
            "['40', '35', '30', '25', '20', '15', '10', '5']\n"
          ]
        }
      ]
    },
    {
      "cell_type": "markdown",
      "source": [
        "Ahora vamos a concatenar ambas listas, de hermanos y numeros"
      ],
      "metadata": {
        "id": "8csi47ZlqcJP"
      }
    },
    {
      "cell_type": "code",
      "source": [
        "print(hermanos+numeros)"
      ],
      "metadata": {
        "colab": {
          "base_uri": "https://localhost:8080/"
        },
        "id": "uzlRgPaSqg92",
        "outputId": "b06092a0-27f1-4fee-f381-145ac61421f2"
      },
      "execution_count": null,
      "outputs": [
        {
          "output_type": "stream",
          "name": "stdout",
          "text": [
            "['tomas', 'susana', 'esteban', 'cualquiera', '5', '10', '15', '20', '25', '30', '35', '40']\n"
          ]
        }
      ]
    },
    {
      "cell_type": "markdown",
      "source": [
        "Añadir elementos a las listas"
      ],
      "metadata": {
        "id": "E76PhbXjspvR"
      }
    },
    {
      "cell_type": "code",
      "source": [
        "hermanos.append(\"michel\")\n",
        "print(len(hermanos))\n",
        "print(hermanos)\n"
      ],
      "metadata": {
        "colab": {
          "base_uri": "https://localhost:8080/"
        },
        "id": "cByjqe9-ssVo",
        "outputId": "0ca41657-06a3-43cd-b317-fd84b1446d39"
      },
      "execution_count": null,
      "outputs": [
        {
          "output_type": "stream",
          "name": "stdout",
          "text": [
            "5\n",
            "['tomas', 'susana', 'esteban', 'cualquiera', 'michel']\n"
          ]
        }
      ]
    },
    {
      "cell_type": "code",
      "source": [
        "numeros.append(\"45\")\n",
        "print(len(numeros))\n",
        "print(numeros)"
      ],
      "metadata": {
        "colab": {
          "base_uri": "https://localhost:8080/"
        },
        "id": "cpYD5La5tXzB",
        "outputId": "e4ee5659-fa4e-4918-f074-bc985c58b685"
      },
      "execution_count": null,
      "outputs": [
        {
          "output_type": "stream",
          "name": "stdout",
          "text": [
            "9\n",
            "['5', '10', '15', '20', '25', '30', '35', '40', '45']\n"
          ]
        }
      ]
    },
    {
      "cell_type": "markdown",
      "source": [
        "Las listas se pueden multiplicar por numeros enteros"
      ],
      "metadata": {
        "id": "L3NsbMMfuERp"
      }
    },
    {
      "cell_type": "code",
      "source": [
        "print(hermanos*3)"
      ],
      "metadata": {
        "colab": {
          "base_uri": "https://localhost:8080/"
        },
        "id": "i8F5eIB1uKE2",
        "outputId": "1c13d769-3332-4e23-fc0e-1d186c682d58"
      },
      "execution_count": null,
      "outputs": [
        {
          "output_type": "stream",
          "name": "stdout",
          "text": [
            "['tomas', 'susana', 'esteban', 'cualquiera', 'michel', 'tomas', 'susana', 'esteban', 'cualquiera', 'michel', 'tomas', 'susana', 'esteban', 'cualquiera', 'michel']\n"
          ]
        }
      ]
    },
    {
      "cell_type": "markdown",
      "source": [
        "crear una nueva lista y concatenarla con hermanos"
      ],
      "metadata": {
        "id": "EWsPfUEFuuXZ"
      }
    },
    {
      "cell_type": "code",
      "source": [
        "dias = [\"lunes\", \"martes\", \"miercoles\",\"jueves\", \"viernes\"]\n",
        "print(dias)\n",
        "print(\"\\n\")\n",
        "print(hermanos+dias)\n"
      ],
      "metadata": {
        "colab": {
          "base_uri": "https://localhost:8080/"
        },
        "id": "o3RxsFBJuzTY",
        "outputId": "e071e471-17ad-4fa7-ea03-63f78781e683"
      },
      "execution_count": null,
      "outputs": [
        {
          "output_type": "stream",
          "name": "stdout",
          "text": [
            "['lunes', 'martes', 'miercoles', 'jueves', 'viernes']\n",
            "\n",
            "\n",
            "['tomas', 'susana', 'esteban', 'cualquiera', 'michel', 'lunes', 'martes', 'miercoles', 'jueves', 'viernes']\n"
          ]
        }
      ]
    },
    {
      "cell_type": "code",
      "source": [
        "dias.append(\"sabado\")\n",
        "print(dias)"
      ],
      "metadata": {
        "colab": {
          "base_uri": "https://localhost:8080/"
        },
        "id": "xGDh-ZbivNlm",
        "outputId": "76c15d38-b563-45ff-e69c-eb6ee183df3e"
      },
      "execution_count": null,
      "outputs": [
        {
          "output_type": "stream",
          "name": "stdout",
          "text": [
            "['lunes', 'martes', 'miercoles', 'jueves', 'viernes', 'sabado']\n"
          ]
        }
      ]
    },
    {
      "cell_type": "markdown",
      "source": [
        "Modificar los datos de una lista"
      ],
      "metadata": {
        "id": "UQWJq2fywYrc"
      }
    },
    {
      "cell_type": "code",
      "source": [
        "hermanos[3]= \"Luis\"\n",
        "print(hermanos)"
      ],
      "metadata": {
        "colab": {
          "base_uri": "https://localhost:8080/"
        },
        "id": "kK_xx9zBwbho",
        "outputId": "1bf66e41-c401-40cd-9a01-3a146aceeb59"
      },
      "execution_count": null,
      "outputs": [
        {
          "output_type": "stream",
          "name": "stdout",
          "text": [
            "['tomas', 'susana', 'esteban', 'Luis', 'michel']\n"
          ]
        }
      ]
    },
    {
      "cell_type": "markdown",
      "source": [
        "Modificar rangos de la lista sin importar el tamaño inicial"
      ],
      "metadata": {
        "id": "BYNwqAEYxFM0"
      }
    },
    {
      "cell_type": "code",
      "source": [
        "hermanos[:1]=(\"santiago\",\"duban\",\"felipe\")\n",
        "print(hermanos)"
      ],
      "metadata": {
        "colab": {
          "base_uri": "https://localhost:8080/"
        },
        "id": "USncoC7Lx0_j",
        "outputId": "769e3c65-c88b-4a28-aea2-1cef0398573f"
      },
      "execution_count": null,
      "outputs": [
        {
          "output_type": "stream",
          "name": "stdout",
          "text": [
            "['santiago', 'duban', 'felipe', 'susana', 'esteban', 'Luis', 'michel']\n"
          ]
        }
      ]
    },
    {
      "cell_type": "markdown",
      "source": [
        "validar si un dato existe dentro de una lista y conjunto de datos"
      ],
      "metadata": {
        "id": "qL_6dh38y1Rc"
      }
    },
    {
      "cell_type": "code",
      "source": [
        "print(\"\\n\")\n",
        "print(\"Luis\" in hermanos)"
      ],
      "metadata": {
        "colab": {
          "base_uri": "https://localhost:8080/"
        },
        "id": "BYV-xHY6y6J9",
        "outputId": "abb74f18-d315-48ad-e96a-93467cd77f77"
      },
      "execution_count": null,
      "outputs": [
        {
          "output_type": "stream",
          "name": "stdout",
          "text": [
            "\n",
            "\n",
            "True\n"
          ]
        }
      ]
    },
    {
      "cell_type": "code",
      "source": [
        "print(numeros)\n",
        "print(\"\\n\")\n",
        "print(\"30\" in numeros)"
      ],
      "metadata": {
        "colab": {
          "base_uri": "https://localhost:8080/"
        },
        "id": "dZOAn8tpzV4z",
        "outputId": "c7e29d80-022d-4b6a-ac3d-67f108b43546"
      },
      "execution_count": null,
      "outputs": [
        {
          "output_type": "stream",
          "name": "stdout",
          "text": [
            "['5', '10', '15', '20', '25', '30', '35', '40', '45']\n",
            "\n",
            "\n",
            "True\n"
          ]
        }
      ]
    },
    {
      "cell_type": "markdown",
      "source": [
        "Buscar la posicion de un dato en una lista determinada"
      ],
      "metadata": {
        "id": "ol8vaPnRzjVt"
      }
    },
    {
      "cell_type": "code",
      "source": [
        "print(hermanos)\n",
        "print(\"\\n\")\n",
        "print(\"la posicion del dato santiago en la lista es: {}\".format(hermanos.index(\"santiago\")))"
      ],
      "metadata": {
        "colab": {
          "base_uri": "https://localhost:8080/"
        },
        "id": "DRPwT9jyznYV",
        "outputId": "d126b8e8-f7b0-4f86-e447-c4e31cd25888"
      },
      "execution_count": null,
      "outputs": [
        {
          "output_type": "stream",
          "name": "stdout",
          "text": [
            "['santiago', 'duban', 'felipe', 'susana', 'esteban', 'Luis', 'michel']\n",
            "\n",
            "\n",
            "la posicion del dato santiago en la lista es: 0\n"
          ]
        }
      ]
    },
    {
      "cell_type": "code",
      "source": [
        "print(\"la posicion de susana es:{}\" .format(hermanos.index(\"susana\")))"
      ],
      "metadata": {
        "colab": {
          "base_uri": "https://localhost:8080/"
        },
        "id": "-uFWBCYl0Md1",
        "outputId": "0ea592a2-47dc-4ecb-b304-fe56af490b4d"
      },
      "execution_count": null,
      "outputs": [
        {
          "output_type": "stream",
          "name": "stdout",
          "text": [
            "la posicion de susana es:3\n"
          ]
        }
      ]
    },
    {
      "cell_type": "code",
      "source": [
        "print(\"la posicion de esteban es:{}\".format(hermanos.index(\"esteban\")))"
      ],
      "metadata": {
        "colab": {
          "base_uri": "https://localhost:8080/"
        },
        "id": "6lPXeMLW0g_k",
        "outputId": "3ee0ac9a-5d9d-4945-bfad-7f65616fd19d"
      },
      "execution_count": null,
      "outputs": [
        {
          "output_type": "stream",
          "name": "stdout",
          "text": [
            "la posicion de esteban es:4\n"
          ]
        }
      ]
    },
    {
      "cell_type": "code",
      "source": [
        "hermanos.append(\"castro\")\n",
        "print(hermanos)"
      ],
      "metadata": {
        "colab": {
          "base_uri": "https://localhost:8080/"
        },
        "id": "BCgtghpV0yQw",
        "outputId": "d0e1d815-c974-4c05-890b-706058a7fc18"
      },
      "execution_count": null,
      "outputs": [
        {
          "output_type": "stream",
          "name": "stdout",
          "text": [
            "['santiago', 'duban', 'felipe', 'susana', 'esteban', 'Luis', 'michel', 'castro']\n"
          ]
        }
      ]
    },
    {
      "cell_type": "code",
      "source": [
        "print(\"la posicion de castro es {}\".format (hermanos.index(\"castro\")))"
      ],
      "metadata": {
        "colab": {
          "base_uri": "https://localhost:8080/"
        },
        "id": "mKyfLKzk1FGB",
        "outputId": "470831c6-97c8-4d31-b379-938709893927"
      },
      "execution_count": null,
      "outputs": [
        {
          "output_type": "stream",
          "name": "stdout",
          "text": [
            "la posicion de castro es 7\n"
          ]
        }
      ]
    },
    {
      "cell_type": "code",
      "source": [
        "hermanos[9]=\"zamira\"\n",
        "print(hermanos)"
      ],
      "metadata": {
        "colab": {
          "base_uri": "https://localhost:8080/",
          "height": 159
        },
        "id": "5pvr9pxU1YzT",
        "outputId": "5b156a6e-25e0-4388-d723-0a8939f891c1"
      },
      "execution_count": null,
      "outputs": [
        {
          "output_type": "error",
          "ename": "IndexError",
          "evalue": "list assignment index out of range",
          "traceback": [
            "\u001b[0;31m---------------------------------------------------------------------------\u001b[0m",
            "\u001b[0;31mIndexError\u001b[0m                                Traceback (most recent call last)",
            "\u001b[0;32m<ipython-input-39-e6fe3f4e9a8a>\u001b[0m in \u001b[0;36m<cell line: 0>\u001b[0;34m()\u001b[0m\n\u001b[0;32m----> 1\u001b[0;31m \u001b[0mhermanos\u001b[0m\u001b[0;34m[\u001b[0m\u001b[0;36m9\u001b[0m\u001b[0;34m]\u001b[0m\u001b[0;34m=\u001b[0m\u001b[0;34m\"zamira\"\u001b[0m\u001b[0;34m\u001b[0m\u001b[0;34m\u001b[0m\u001b[0m\n\u001b[0m\u001b[1;32m      2\u001b[0m \u001b[0mprint\u001b[0m\u001b[0;34m(\u001b[0m\u001b[0mhermanos\u001b[0m\u001b[0;34m)\u001b[0m\u001b[0;34m\u001b[0m\u001b[0;34m\u001b[0m\u001b[0m\n",
            "\u001b[0;31mIndexError\u001b[0m: list assignment index out of range"
          ]
        }
      ]
    },
    {
      "cell_type": "markdown",
      "source": [
        "Eliminar datos de alguna de las listas creadas"
      ],
      "metadata": {
        "id": "jBD6sZ9t1yK7"
      }
    },
    {
      "cell_type": "code",
      "source": [
        "print(len(hermanos))\n",
        "print(\"\\n\")\n",
        "hermanos.pop(6)\n",
        "print(hermanos)\n",
        "print(\"\\n\")\n",
        "print(len(hermanos))"
      ],
      "metadata": {
        "id": "pBcpTyYc13oT"
      },
      "execution_count": null,
      "outputs": []
    },
    {
      "cell_type": "code",
      "source": [
        "print(hermanos)"
      ],
      "metadata": {
        "id": "XOw0O7Ld3Xwt"
      },
      "execution_count": null,
      "outputs": []
    },
    {
      "cell_type": "code",
      "source": [
        "hermanos.pop(0)\n",
        "print(hermanos)"
      ],
      "metadata": {
        "id": "l7ZXxRrP3oKF"
      },
      "execution_count": null,
      "outputs": []
    },
    {
      "cell_type": "code",
      "source": [
        "hermanos.append(\"santiago\")\n",
        "print(hermanos)\n"
      ],
      "metadata": {
        "id": "eRv-rWYR3yEb"
      },
      "execution_count": null,
      "outputs": []
    },
    {
      "cell_type": "code",
      "source": [
        "print(\"la posicion del dato santiago es {}\" . format(hermanos.index(\"santiago\")))"
      ],
      "metadata": {
        "id": "CTtDoGnr34kZ"
      },
      "execution_count": null,
      "outputs": []
    },
    {
      "cell_type": "code",
      "source": [
        "hermanos[1]= \"yamile\"\n",
        "print(hermanos)"
      ],
      "metadata": {
        "id": "Yo3kueg74HYi"
      },
      "execution_count": null,
      "outputs": []
    },
    {
      "cell_type": "code",
      "source": [
        "hermanos.pop(0)\n",
        "print(hermanos)"
      ],
      "metadata": {
        "id": "uv_ns6Ha4Wo5"
      },
      "execution_count": null,
      "outputs": []
    },
    {
      "cell_type": "code",
      "source": [
        "print(hermanos[::-1])"
      ],
      "metadata": {
        "id": "_7KNioCT4dZM"
      },
      "execution_count": null,
      "outputs": []
    },
    {
      "cell_type": "code",
      "source": [
        "print(hermanos[3:])"
      ],
      "metadata": {
        "id": "nJ7UOb6n4k5Y"
      },
      "execution_count": null,
      "outputs": []
    },
    {
      "cell_type": "code",
      "source": [
        "print(hermanos[:1])"
      ],
      "metadata": {
        "id": "nP2uXKrP4s8q"
      },
      "execution_count": null,
      "outputs": []
    },
    {
      "cell_type": "markdown",
      "source": [
        "como ordenar las diferentes listas que tenemos"
      ],
      "metadata": {
        "id": "eqFDtnKO4451"
      }
    },
    {
      "cell_type": "code",
      "source": [
        "hermanos.sort()\n",
        "print(hermanos)\n"
      ],
      "metadata": {
        "id": "8Zz0ED6w5Av3"
      },
      "execution_count": null,
      "outputs": []
    },
    {
      "cell_type": "code",
      "source": [
        "hermanos[0] = \"luis\"\n",
        "print(hermanos)\n"
      ],
      "metadata": {
        "id": "bxyvAzmB5owy"
      },
      "execution_count": null,
      "outputs": []
    },
    {
      "cell_type": "code",
      "source": [
        "hermanos.sort()\n",
        "print(hermanos)"
      ],
      "metadata": {
        "id": "ruo6_TLN5xeY"
      },
      "execution_count": null,
      "outputs": []
    },
    {
      "cell_type": "markdown",
      "source": [
        "Eliminar dato en especifico"
      ],
      "metadata": {
        "id": "lW4gjAemAF0V"
      }
    },
    {
      "cell_type": "code",
      "source": [
        "hermanos.pop(hermanos.index(\"susana\"))\n",
        "print(hermanos)"
      ],
      "metadata": {
        "id": "LqgTexI6AShI"
      },
      "execution_count": null,
      "outputs": []
    },
    {
      "cell_type": "code",
      "source": [
        "print(\"la posicion del campo michel en la lista es: {}\" .format(hermanos.index(\"michel\")))"
      ],
      "metadata": {
        "id": "TURkKEn2CN-R"
      },
      "execution_count": null,
      "outputs": []
    },
    {
      "cell_type": "code",
      "source": [
        "hermanos.append(\"valen\")\n",
        "print(hermanos)"
      ],
      "metadata": {
        "id": "efeXPvqwCcSX"
      },
      "execution_count": null,
      "outputs": []
    },
    {
      "cell_type": "markdown",
      "source": [
        "creemos una lista"
      ],
      "metadata": {
        "id": "PbnHR2wk66qd"
      }
    },
    {
      "cell_type": "code",
      "source": [
        "jugos =[\"naranja\",\"mango\",\"lulo\",\"mora\"]\n",
        "print (jugos)"
      ],
      "metadata": {
        "id": "kL0h2eGg6-q0"
      },
      "execution_count": null,
      "outputs": []
    },
    {
      "cell_type": "code",
      "source": [
        "print(jugos[:2])"
      ],
      "metadata": {
        "id": "x9nXyEtk7W1q"
      },
      "execution_count": null,
      "outputs": []
    },
    {
      "cell_type": "code",
      "source": [
        "jugos.append(\"cereza\")\n",
        "print(jugos)"
      ],
      "metadata": {
        "id": "sPocMvJe7dPg"
      },
      "execution_count": null,
      "outputs": []
    },
    {
      "cell_type": "code",
      "source": [
        "jugos[2]= \"limon\"\n",
        "print(jugos)"
      ],
      "metadata": {
        "id": "VxfS0Lk57k2m"
      },
      "execution_count": null,
      "outputs": []
    },
    {
      "cell_type": "code",
      "source": [
        "jugos.pop(2)\n",
        "print(jugos)"
      ],
      "metadata": {
        "id": "mjZwT2ZG75tC"
      },
      "execution_count": null,
      "outputs": []
    },
    {
      "cell_type": "code",
      "source": [
        "print(\"la posicion de la lista donde esta mora es : {}\" .format(jugos.index(\"mora\")))"
      ],
      "metadata": {
        "id": "oDvlcZmO9Ljt"
      },
      "execution_count": null,
      "outputs": []
    },
    {
      "cell_type": "code",
      "source": [
        "print(len(jugos))"
      ],
      "metadata": {
        "id": "CMqprTEh9a5x"
      },
      "execution_count": null,
      "outputs": []
    },
    {
      "cell_type": "code",
      "source": [
        "jugos.pop(jugos.index(\"mora\"))\n",
        "print(jugos)"
      ],
      "metadata": {
        "id": "XGnUisp_9ruW"
      },
      "execution_count": null,
      "outputs": []
    },
    {
      "cell_type": "code",
      "source": [
        "jugos.append(\"tomate\")\n",
        "print(jugos)"
      ],
      "metadata": {
        "id": "3eWYNxjl5TJW"
      },
      "execution_count": null,
      "outputs": []
    },
    {
      "cell_type": "code",
      "source": [
        "jugos.pop(3)\n",
        "print(jugos)"
      ],
      "metadata": {
        "id": "ybQ7EXsL5b9r"
      },
      "execution_count": null,
      "outputs": []
    },
    {
      "cell_type": "code",
      "source": [
        "print(jugos[:2])\n"
      ],
      "metadata": {
        "id": "OpzcC7Rw5sPE"
      },
      "execution_count": null,
      "outputs": []
    },
    {
      "cell_type": "code",
      "source": [
        "print (jugos[1:])\n"
      ],
      "metadata": {
        "id": "x7Y_mQDt51LA"
      },
      "execution_count": null,
      "outputs": []
    },
    {
      "cell_type": "markdown",
      "source": [
        "**TUPLAS vamos a ver tuplas ahora mismo**"
      ],
      "metadata": {
        "id": "ioM5ZJfdGc_6"
      }
    },
    {
      "cell_type": "markdown",
      "source": [
        "Se define primero una variable y se ponen los datos en parentesis y en comillas si es texto o si son numeros sin comillas"
      ],
      "metadata": {
        "id": "5lFruvmUGstG"
      }
    },
    {
      "cell_type": "code",
      "source": [
        "Una_lista = (\"santiago\",25,13)\n",
        "print (Una_lista)\n"
      ],
      "metadata": {
        "colab": {
          "base_uri": "https://localhost:8080/"
        },
        "id": "5YRqWNE6G0up",
        "outputId": "6f5b4997-3b64-4bc0-ce22-2ce05e884660"
      },
      "execution_count": null,
      "outputs": [
        {
          "output_type": "stream",
          "name": "stdout",
          "text": [
            "('santiago', 25, 13)\n"
          ]
        }
      ]
    },
    {
      "cell_type": "code",
      "source": [
        "print(type(Una_lista))"
      ],
      "metadata": {
        "colab": {
          "base_uri": "https://localhost:8080/"
        },
        "id": "tjmLEfNwHN-g",
        "outputId": "69b11ccd-4ddb-4252-b02f-488e4f226b77"
      },
      "execution_count": null,
      "outputs": [
        {
          "output_type": "stream",
          "name": "stdout",
          "text": [
            "<class 'tuple'>\n"
          ]
        }
      ]
    },
    {
      "cell_type": "markdown",
      "source": [
        "Creemos una Tupla con los 4 elementos de la tierra"
      ],
      "metadata": {
        "id": "lqTPPnBCH9vL"
      }
    },
    {
      "cell_type": "code",
      "source": [
        "elementos = (\"tierra\",\"agua\",\"aire\",\"fuego\")\n",
        "print(elementos)\n",
        "print(\"\\n\")\n",
        "print(type(elementos))\n"
      ],
      "metadata": {
        "colab": {
          "base_uri": "https://localhost:8080/"
        },
        "id": "PW7YA-RXHe1t",
        "outputId": "7db38c10-255c-4f50-9bff-ebbb89d9699e"
      },
      "execution_count": null,
      "outputs": [
        {
          "output_type": "stream",
          "name": "stdout",
          "text": [
            "('tierra', 'agua', 'aire', 'fuego')\n",
            "\n",
            "\n",
            "<class 'tuple'>\n"
          ]
        }
      ]
    },
    {
      "cell_type": "markdown",
      "source": [
        "Notése que, si bien para crear una lista se hace utilizando los paréntesis, para realizar la indexación se realiza mediante corchetes. podemos vizualizar los elementos de la tupla utilizando el método print, de la siguiente forma:"
      ],
      "metadata": {
        "id": "YVxQP734I5Qe"
      }
    },
    {
      "cell_type": "code",
      "source": [
        " print(elementos[0])"
      ],
      "metadata": {
        "colab": {
          "base_uri": "https://localhost:8080/"
        },
        "id": "Bf4TVBxbJBs5",
        "outputId": "b7e59208-b7df-42d7-cc89-2bc8826111eb"
      },
      "execution_count": null,
      "outputs": [
        {
          "output_type": "stream",
          "name": "stdout",
          "text": [
            "tierra\n"
          ]
        }
      ]
    },
    {
      "cell_type": "code",
      "source": [
        "print (elementos[0])\n",
        "print(elementos[1])\n",
        "print(elementos[2])"
      ],
      "metadata": {
        "colab": {
          "base_uri": "https://localhost:8080/"
        },
        "id": "Vez-R2ZLJne2",
        "outputId": "8d6c4851-8b1e-481c-82a0-7ef1d10cace5"
      },
      "execution_count": null,
      "outputs": [
        {
          "output_type": "stream",
          "name": "stdout",
          "text": [
            "tierra\n",
            "agua\n",
            "aire\n"
          ]
        }
      ]
    },
    {
      "cell_type": "code",
      "source": [
        "primer_elemento = elementos[0]\n",
        "print(primer_elemento)"
      ],
      "metadata": {
        "colab": {
          "base_uri": "https://localhost:8080/"
        },
        "id": "AKpefIcAKUBW",
        "outputId": "33525e04-bc68-4d1a-b3f6-b10741fdd5ab"
      },
      "execution_count": null,
      "outputs": [
        {
          "output_type": "stream",
          "name": "stdout",
          "text": [
            "tierra\n"
          ]
        }
      ]
    },
    {
      "cell_type": "markdown",
      "source": [
        "De igual forma se puede utilizar una idexación negativa e la siguiente forma: se puede definir el ultimo elemento de la lista como -1, el siguiente como -2 y asi sucesivamente"
      ],
      "metadata": {
        "id": "IsoENQxcLJsB"
      }
    },
    {
      "cell_type": "markdown",
      "source": [
        "Por ejemplo, imprimamos el ultimo elemento de la lista"
      ],
      "metadata": {
        "id": "QNv1WoOLLhrU"
      }
    },
    {
      "cell_type": "code",
      "source": [
        "elementos [-1]"
      ],
      "metadata": {
        "colab": {
          "base_uri": "https://localhost:8080/",
          "height": 35
        },
        "id": "F8t7IbdWLV9W",
        "outputId": "f54145b2-8cf5-4931-e573-976fa0f3a0fd"
      },
      "execution_count": null,
      "outputs": [
        {
          "output_type": "execute_result",
          "data": {
            "text/plain": [
              "'fuego'"
            ],
            "application/vnd.google.colaboratory.intrinsic+json": {
              "type": "string"
            }
          },
          "metadata": {},
          "execution_count": 48
        }
      ]
    },
    {
      "cell_type": "markdown",
      "source": [
        "Practica:\n",
        "\n",
        "Utilizar un índice negativo para obtener el penúltimo elemento de la tupla.\n",
        "\n",
        "Utilizar un índice negativo para obtener el primer elemento de la tupla."
      ],
      "metadata": {
        "id": "g-KFlTS1MOyR"
      }
    },
    {
      "cell_type": "markdown",
      "source": [
        "Penultimo elemento"
      ],
      "metadata": {
        "id": "gFHOyuuXN1a3"
      }
    },
    {
      "cell_type": "code",
      "source": [
        "elementos [-2]"
      ],
      "metadata": {
        "colab": {
          "base_uri": "https://localhost:8080/",
          "height": 35
        },
        "id": "5W1yj7_jN39Y",
        "outputId": "003819a5-4bba-4636-e9db-895b337aeeb2"
      },
      "execution_count": null,
      "outputs": [
        {
          "output_type": "execute_result",
          "data": {
            "text/plain": [
              "'aire'"
            ],
            "application/vnd.google.colaboratory.intrinsic+json": {
              "type": "string"
            }
          },
          "metadata": {},
          "execution_count": 50
        }
      ]
    },
    {
      "cell_type": "markdown",
      "source": [
        "Ahora hallamos el primer elemento utilizando un negativo"
      ],
      "metadata": {
        "id": "blEoAWzmOEJF"
      }
    },
    {
      "cell_type": "code",
      "source": [
        "elementos[-len(elementos)]"
      ],
      "metadata": {
        "id": "laRimWUZN9cu"
      },
      "execution_count": null,
      "outputs": []
    },
    {
      "cell_type": "markdown",
      "source": [
        "uilizando la función len y un numero negativo para hallar el ultimo elemento"
      ],
      "metadata": {
        "id": "2rmbnKy5PBE4"
      }
    },
    {
      "cell_type": "code",
      "source": [
        "elementos [len(elementos)-1]"
      ],
      "metadata": {
        "id": "uVMNMBVNOQ_j"
      },
      "execution_count": null,
      "outputs": []
    },
    {
      "cell_type": "markdown",
      "source": [
        "Utilizamos la funcion len y un numero positivo para hallar el segundo elemento de la lista"
      ],
      "metadata": {
        "id": "LXJMl24IPZAU"
      }
    },
    {
      "cell_type": "code",
      "source": [
        "elementos[-len(elementos)+1]"
      ],
      "metadata": {
        "id": "CG2BSlPmOqwh"
      },
      "execution_count": null,
      "outputs": []
    },
    {
      "cell_type": "code",
      "source": [
        "print(elementos)"
      ],
      "metadata": {
        "id": "X2sI6VY0O5MM"
      },
      "execution_count": null,
      "outputs": []
    },
    {
      "cell_type": "code",
      "source": [
        "elementos[1]"
      ],
      "metadata": {
        "id": "SEXwbhZcPmvM"
      },
      "execution_count": null,
      "outputs": []
    },
    {
      "cell_type": "code",
      "source": [
        "print(len(elementos))"
      ],
      "metadata": {
        "id": "a-8jOd_-PsaD"
      },
      "execution_count": null,
      "outputs": []
    },
    {
      "cell_type": "code",
      "source": [
        "elementos[-1]"
      ],
      "metadata": {
        "id": "XGTUR8IYP2Ws"
      },
      "execution_count": null,
      "outputs": []
    },
    {
      "cell_type": "code",
      "source": [
        "elementos[3]"
      ],
      "metadata": {
        "id": "QkMZdv9uP6zv"
      },
      "execution_count": null,
      "outputs": []
    },
    {
      "cell_type": "code",
      "source": [
        "elementos [len(elementos)-1]"
      ],
      "metadata": {
        "id": "R0x8RFrUQLSB"
      },
      "execution_count": null,
      "outputs": []
    },
    {
      "cell_type": "markdown",
      "source": [
        "Recordemos que, la característica principal de las tuplas es que no se pueden modificar los datos, sin embargo, las tuplas se pueden concatenar utilizando el símbolo  +"
      ],
      "metadata": {
        "id": "K1Lx5SxAVJKH"
      }
    },
    {
      "cell_type": "code",
      "source": [
        "Una_lista_2 = Una_lista + (\"valentina\",12,21)\n",
        "print(Una_lista_2)"
      ],
      "metadata": {
        "colab": {
          "base_uri": "https://localhost:8080/"
        },
        "id": "BmKZcun9VK4v",
        "outputId": "5c85c2da-8b48-4ba1-e7f2-dbd3d0568e02"
      },
      "execution_count": null,
      "outputs": [
        {
          "output_type": "stream",
          "name": "stdout",
          "text": [
            "('santiago', 25, 13, 'valentina', 12, 21)\n"
          ]
        }
      ]
    },
    {
      "cell_type": "code",
      "source": [
        "print(\"la posición de el elemento 21 es {}\". format(Una_lista_2.index(21)))"
      ],
      "metadata": {
        "colab": {
          "base_uri": "https://localhost:8080/"
        },
        "id": "XghpXk4AWEkA",
        "outputId": "628ec8d8-d3b9-417a-8e60-10d7212cdd35"
      },
      "execution_count": null,
      "outputs": [
        {
          "output_type": "stream",
          "name": "stdout",
          "text": [
            "la posición de el elemento 21 es 5\n"
          ]
        }
      ]
    },
    {
      "cell_type": "markdown",
      "source": [
        "Podemos convertir una Tupla en lista, y, una lista en Tupla de la siguiente manera"
      ],
      "metadata": {
        "id": "U1JCJoJwXUP1"
      }
    },
    {
      "cell_type": "code",
      "source": [
        "Es_una_lista = list(Una_lista_2)\n",
        "print(Es_una_lista)\n",
        "print(type(Es_una_lista))\n",
        "Una_lista_2 = tuple (Es_una_lista)\n",
        "print(Una_lista_2)\n",
        "print(type(Una_lista_2))"
      ],
      "metadata": {
        "colab": {
          "base_uri": "https://localhost:8080/"
        },
        "id": "dVHMjSIjXd_H",
        "outputId": "03b32759-df6c-4de1-d388-7a0afe8ec3f3"
      },
      "execution_count": null,
      "outputs": [
        {
          "output_type": "stream",
          "name": "stdout",
          "text": [
            "['santiago', 25, 13, 'valentina', 12, 21]\n",
            "<class 'list'>\n",
            "('santiago', 25, 13, 'valentina', 12, 21)\n",
            "<class 'tuple'>\n"
          ]
        }
      ]
    },
    {
      "cell_type": "markdown",
      "source": [
        "Acceder a los elementos de una Tupla mediante ***slicing o rebanados***"
      ],
      "metadata": {
        "id": "meiudnRSZQoF"
      }
    },
    {
      "cell_type": "code",
      "source": [
        "Una_lista_2[0:3]"
      ],
      "metadata": {
        "colab": {
          "base_uri": "https://localhost:8080/"
        },
        "id": "7S-bPM38ZXCB",
        "outputId": "4c349652-a806-4523-d293-2a60f62e1aca"
      },
      "execution_count": null,
      "outputs": [
        {
          "output_type": "execute_result",
          "data": {
            "text/plain": [
              "('santiago', 25, 13)"
            ]
          },
          "metadata": {},
          "execution_count": 56
        }
      ]
    },
    {
      "cell_type": "markdown",
      "source": [
        "El me selecciona desde la posición 0 a 3 sin incluir la 3era posición"
      ],
      "metadata": {
        "id": "S1qMyBH1ZnnG"
      }
    },
    {
      "cell_type": "markdown",
      "source": [
        "Podemos hacer lo mismo desde cualquier posición en adelante"
      ],
      "metadata": {
        "id": "RS_CK6q6YX7G"
      }
    },
    {
      "cell_type": "code",
      "source": [
        "Una_lista_2[2:4]"
      ],
      "metadata": {
        "colab": {
          "base_uri": "https://localhost:8080/"
        },
        "id": "6M83EsTjaSzR",
        "outputId": "3ca7cf50-d9bc-4ede-f838-c30267a0e6db"
      },
      "execution_count": null,
      "outputs": [
        {
          "output_type": "execute_result",
          "data": {
            "text/plain": [
              "(13, 'valentina')"
            ]
          },
          "metadata": {},
          "execution_count": 57
        }
      ]
    },
    {
      "cell_type": "markdown",
      "source": [
        "Recorrer la tupla mediante un For"
      ],
      "metadata": {
        "id": "MUUCjDBcbtJt"
      }
    },
    {
      "cell_type": "code",
      "source": [
        "for dato in Una_lista_2:\n",
        "    print(dato)"
      ],
      "metadata": {
        "colab": {
          "base_uri": "https://localhost:8080/"
        },
        "id": "7bFCz3HPbwtl",
        "outputId": "312f5678-e7d5-4569-b58b-e446169d60a8"
      },
      "execution_count": null,
      "outputs": [
        {
          "output_type": "stream",
          "name": "stdout",
          "text": [
            "santiago\n",
            "25\n",
            "13\n",
            "valentina\n",
            "12\n",
            "21\n"
          ]
        }
      ]
    },
    {
      "cell_type": "markdown",
      "source": [
        "Como ordenas las tuplas"
      ],
      "metadata": {
        "id": "WQzf9vgYcg4K"
      }
    },
    {
      "cell_type": "code",
      "source": [
        "funcion_constante = (5,4,6,8,9,2,7)\n",
        "orden_funcion_costante = sorted (funcion_constante)\n",
        "print(orden_funcion_costante)\n",
        "print(type(orden_funcion_costante))\n",
        "funcion_costante = tuple(orden_funcion_costante)\n",
        "print(funcion_costante)\n",
        "print(type(funcion_costante))"
      ],
      "metadata": {
        "colab": {
          "base_uri": "https://localhost:8080/"
        },
        "id": "32XijXpvaXYG",
        "outputId": "07531871-b4d0-487f-9abe-65972e69d3ff"
      },
      "execution_count": null,
      "outputs": [
        {
          "output_type": "stream",
          "name": "stdout",
          "text": [
            "[2, 4, 5, 6, 7, 8, 9]\n",
            "<class 'list'>\n",
            "(2, 4, 5, 6, 7, 8, 9)\n",
            "<class 'tuple'>\n"
          ]
        }
      ]
    },
    {
      "cell_type": "markdown",
      "source": [
        "**Tupla anidada**\n",
        "Una tupla puede contener otra tupla, así como otros tipos de datos más complejos. Este proceso se llama \"anidamiento\". Considere la siguiente tupla con varios elementos:\n",
        "\n"
      ],
      "metadata": {
        "id": "rUdYXMPWeBEh"
      }
    },
    {
      "cell_type": "code",
      "source": [
        "# Crea una tupla de nido\n",
        "\n",
        "NestedT = ( 1 ,  2 ,  ( \"pop\" ,  \"rock\" )  , ( 3 , 4 ) , ( \"disco\" , ( 1 , 2 ) ) )\n",
        "\n",
        "# cada dato que se encuentra dentro del parentesis se toma como si fuera una posicion sola\n",
        "# es decir que en este caso solo tenemos 5 posiciones."
      ],
      "metadata": {
        "id": "aoE8H0XUdHcx"
      },
      "execution_count": null,
      "outputs": []
    },
    {
      "cell_type": "markdown",
      "source": [
        "Ejercicio: Imprimir los tres últimos elementos de la tupla creada."
      ],
      "metadata": {
        "id": "lWdm_yw6eVuw"
      }
    },
    {
      "cell_type": "code",
      "source": [
        "NestedT[1:]"
      ],
      "metadata": {
        "id": "lu8Alx0QeWi4"
      },
      "execution_count": null,
      "outputs": []
    },
    {
      "cell_type": "markdown",
      "source": [
        "# **Diccionarios**"
      ],
      "metadata": {
        "id": "7siDzZrZtDV_"
      }
    },
    {
      "cell_type": "markdown",
      "source": [
        "Son conjuntos de claves (keys) que permiten encontrar valores(values). Es decir que para cada clave hay un valor asociado\n",
        "\n",
        "# se crean sobre corchetes y se almacena el diccionario en una variable"
      ],
      "metadata": {
        "id": "7x2oeBUqtKn8"
      }
    },
    {
      "cell_type": "code",
      "source": [
        "persona = {\n",
        "        \"nombre\":\"Luis\",\n",
        "        \"Edad\": 26,\n",
        "        \"condicion\":\"discapacitado\"\n",
        "}\n",
        "print(persona)"
      ],
      "metadata": {
        "colab": {
          "base_uri": "https://localhost:8080/"
        },
        "id": "2y7OcSmUtsPC",
        "outputId": "22c34162-396d-46d2-9e28-674ebaf7a6d0"
      },
      "execution_count": null,
      "outputs": [
        {
          "output_type": "stream",
          "name": "stdout",
          "text": [
            "{'nombre': 'Luis', 'Edad': 26, 'condicion': 'discapacitado'}\n"
          ]
        }
      ]
    },
    {
      "cell_type": "markdown",
      "source": [
        "Para acceder a los valores de una clave en especifico, hacemos lo siguiente"
      ],
      "metadata": {
        "id": "6FFw_BfAvW7D"
      }
    },
    {
      "cell_type": "code",
      "source": [
        "print(persona[\"nombre\"])"
      ],
      "metadata": {
        "colab": {
          "base_uri": "https://localhost:8080/"
        },
        "id": "qWfP5A0Bvc8Z",
        "outputId": "4197551c-693b-4a17-89dc-aea6da605479"
      },
      "execution_count": null,
      "outputs": [
        {
          "output_type": "stream",
          "name": "stdout",
          "text": [
            "Luis\n"
          ]
        }
      ]
    },
    {
      "cell_type": "markdown",
      "source": [
        "si la clave no existe, el nos muestra un error, por eso utilizamos get\n",
        "y le damos una opción para cuando la clave no existe. ejemplo"
      ],
      "metadata": {
        "id": "WWxn7MaovupD"
      }
    },
    {
      "cell_type": "code",
      "source": [
        "print(persona.get(\"altura\",\"no definida\"))"
      ],
      "metadata": {
        "id": "Q_x76Je5ti5D"
      },
      "execution_count": null,
      "outputs": []
    },
    {
      "cell_type": "markdown",
      "source": [
        "Para conocer las claves de un diccionario hacemos lo siguiente"
      ],
      "metadata": {
        "id": "T2XYp14cwxCb"
      }
    },
    {
      "cell_type": "code",
      "source": [
        "print(persona.keys())"
      ],
      "metadata": {
        "id": "3zMYh3O1eyuq"
      },
      "execution_count": null,
      "outputs": []
    },
    {
      "cell_type": "markdown",
      "source": [
        "Ahora convertiremos en una lista las claves de un diccionario"
      ],
      "metadata": {
        "id": "kqbtBucOxKCP"
      }
    },
    {
      "cell_type": "code",
      "source": [
        "lista_personas = list(persona.keys())\n",
        "print(lista_personas)\n",
        "print(type(lista_personas))"
      ],
      "metadata": {
        "id": "Ek68_224xDu2"
      },
      "execution_count": null,
      "outputs": []
    },
    {
      "cell_type": "markdown",
      "source": [
        "Ahora convertiremos en una lista los valores de un diccionario"
      ],
      "metadata": {
        "id": "Hj8oJFBY0JXc"
      }
    },
    {
      "cell_type": "code",
      "source": [
        "valor_persona = list(persona.values())\n",
        "print(valor_persona)\n",
        "print(type(valor_persona))"
      ],
      "metadata": {
        "id": "b1hqWUysxYaE"
      },
      "execution_count": null,
      "outputs": []
    },
    {
      "cell_type": "code",
      "source": [
        "print(persona)\n",
        "print(type(persona))"
      ],
      "metadata": {
        "id": "brSRcedP1Bdv"
      },
      "execution_count": null,
      "outputs": []
    },
    {
      "cell_type": "code",
      "source": [
        "oveja = 10\n",
        "\n",
        "print(\"para dormir cuento 1 oveja\")\n",
        "\n",
        "while oveja <= 10:\n",
        "    print(\"para dormir cuento {} ovejas\".format(oveja))\n",
        "    oveja += 1"
      ],
      "metadata": {
        "id": "HN1122h90ZOf"
      },
      "execution_count": null,
      "outputs": []
    },
    {
      "cell_type": "code",
      "source": [],
      "metadata": {
        "id": "9pKC_Smxy49N"
      },
      "execution_count": null,
      "outputs": []
    }
  ]
}