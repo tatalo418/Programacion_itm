{
  "nbformat": 4,
  "nbformat_minor": 0,
  "metadata": {
    "colab": {
      "provenance": [],
      "authorship_tag": "ABX9TyOCLO+LTdf5Nm0zNvXwcV4C",
      "include_colab_link": true
    },
    "kernelspec": {
      "name": "python3",
      "display_name": "Python 3"
    },
    "language_info": {
      "name": "python"
    }
  },
  "cells": [
    {
      "cell_type": "markdown",
      "metadata": {
        "id": "view-in-github",
        "colab_type": "text"
      },
      "source": [
        "<a href=\"https://colab.research.google.com/github/tatalo418/Programacion_itm/blob/main/gesti%C3%B3n_de_portafolios_financieros.ipynb\" target=\"_parent\"><img src=\"https://colab.research.google.com/assets/colab-badge.svg\" alt=\"Open In Colab\"/></a>"
      ]
    },
    {
      "cell_type": "markdown",
      "source": [
        "**TALLER 2**\n",
        "***Parte 1***: Vamos a crear las listas \"clientes\", \"montos_invertidos\",\n",
        "\"rendimientos\""
      ],
      "metadata": {
        "id": "NYomiyEuEodS"
      }
    },
    {
      "cell_type": "code",
      "source": [
        "clientes = ['Juan Perez', 'Maria Rodriguez','Carlos Lopez','Ana Gomez']\n",
        "montos_invertidos = [10000, 15000, 20000, 18000]\n",
        "rendimientos = [5.5, 6.0, 4.0, 7.5]\n",
        "print (clientes)\n",
        "print(\"\\n\")\n",
        "print (montos_invertidos)\n",
        "print(\"\\n\")\n",
        "print (rendimientos)"
      ],
      "metadata": {
        "id": "hDNWztDCE6__",
        "colab": {
          "base_uri": "https://localhost:8080/"
        },
        "outputId": "2274f4de-9f90-4e43-c4b0-7c111724cd30"
      },
      "execution_count": 49,
      "outputs": [
        {
          "output_type": "stream",
          "name": "stdout",
          "text": [
            "['Juan Perez', 'Maria Rodriguez', 'Carlos Lopez', 'Ana Gomez']\n",
            "\n",
            "\n",
            "[10000, 15000, 20000, 18000]\n",
            "\n",
            "\n",
            "[5.5, 6.0, 4.0, 7.5]\n"
          ]
        }
      ]
    },
    {
      "cell_type": "markdown",
      "source": [
        "1. Vamos a crear tuplas para almacenar la información de las listas"
      ],
      "metadata": {
        "id": "F6x6yI2WjnGa"
      }
    },
    {
      "cell_type": "code",
      "source": [
        "#utilizamos el index de cada valor obtenido en las listas para creas las tuplas\n",
        "\n",
        "cliente_1 = (clientes[0], montos_invertidos[0], rendimientos[0])\n",
        "cliente_2 = (clientes[1], montos_invertidos[1], rendimientos[1])\n",
        "cliente_3 = (clientes[2], montos_invertidos[2], rendimientos[2])\n",
        "cliente_4 = (clientes[3], montos_invertidos[3], rendimientos[3])\n",
        "\n",
        "#imprimimos cada lista por aparte\n",
        "\n",
        "print(cliente_1)\n",
        "print(\"\\n\")\n",
        "print(cliente_2)\n",
        "print(\"\\n\")\n",
        "print(cliente_3)\n",
        "print(\"\\n\")\n",
        "print(cliente_4)\n"
      ],
      "metadata": {
        "id": "hguxuekijvDu",
        "colab": {
          "base_uri": "https://localhost:8080/"
        },
        "outputId": "6c98713d-dfa4-4d86-8f57-9e0e5aab024c"
      },
      "execution_count": 50,
      "outputs": [
        {
          "output_type": "stream",
          "name": "stdout",
          "text": [
            "('Juan Perez', 10000, 5.5)\n",
            "\n",
            "\n",
            "('Maria Rodriguez', 15000, 6.0)\n",
            "\n",
            "\n",
            "('Carlos Lopez', 20000, 4.0)\n",
            "\n",
            "\n",
            "('Ana Gomez', 18000, 7.5)\n"
          ]
        }
      ]
    },
    {
      "cell_type": "markdown",
      "source": [
        "***Parte 2*** : Vamos almacenar los datos en un diccionario"
      ],
      "metadata": {
        "id": "uTuRX_UDlM-U"
      }
    },
    {
      "cell_type": "code",
      "source": [
        "# Almacenamos los datos obtenidos en las Tuplas en un diccionario denominado como: portafolio\n",
        "\n",
        "portafolio = {\n",
        "    \"Juan Perez\": {\"monto_invertido\": 10000, \"rendimiento\": 5.5},\n",
        "    \"Maria Rodriguez\": {\"monto_invertido\": 15000, \"rendimiento\": 6.0},\n",
        "    \"Carlos Lopez\": {\"monto_invertido\": 20000, \"rendimiento\": 4.0},\n",
        "    \"Ana Gomez\": {\"monto_invertido\": 18000, \"rendimiento\": 7.5}\n",
        "             }\n",
        "print(portafolio)"
      ],
      "metadata": {
        "id": "Mq0DO1vqlaxW",
        "colab": {
          "base_uri": "https://localhost:8080/"
        },
        "outputId": "396792f3-848c-4992-e54c-ef575c5be354"
      },
      "execution_count": 51,
      "outputs": [
        {
          "output_type": "stream",
          "name": "stdout",
          "text": [
            "{'Juan Perez': {'monto_invertido': 10000, 'rendimiento': 5.5}, 'Maria Rodriguez': {'monto_invertido': 15000, 'rendimiento': 6.0}, 'Carlos Lopez': {'monto_invertido': 20000, 'rendimiento': 4.0}, 'Ana Gomez': {'monto_invertido': 18000, 'rendimiento': 7.5}}\n"
          ]
        }
      ]
    },
    {
      "cell_type": "markdown",
      "source": [
        "2. vamos a utilizar flujos de control (if , for) para encontrar los clientes con una inversion mayor al 5%, según parametros dados por la profesora en Cvirtual"
      ],
      "metadata": {
        "id": "ViE3790dQeVu"
      }
    },
    {
      "cell_type": "code",
      "source": [
        "# estandar de codificación o algoritmo que nos plantea la profe en cvirtual\n",
        "\n",
        "print(\"Los clientes con una rentabilidad mayor al 5% son:\")\n",
        "for cliente, datos in portafolio.items():\n",
        "    if datos[\"rendimiento\"] > 5:\n",
        "      print(f\"{cliente} tiene un rendimiento de {datos['rendimiento']}%\")\n"
      ],
      "metadata": {
        "id": "bnr9Wlr6QwGZ",
        "colab": {
          "base_uri": "https://localhost:8080/"
        },
        "outputId": "9cb256a1-ef25-414f-f858-d443b274689f"
      },
      "execution_count": 52,
      "outputs": [
        {
          "output_type": "stream",
          "name": "stdout",
          "text": [
            "Los clientes con una rentabilidad mayor al 5% son:\n",
            "Juan Perez tiene un rendimiento de 5.5%\n",
            "Maria Rodriguez tiene un rendimiento de 6.0%\n",
            "Ana Gomez tiene un rendimiento de 7.5%\n"
          ]
        }
      ]
    },
    {
      "cell_type": "code",
      "source": [
        "# otra forma de ejecutar la misma condicion con una codificación diferente e iguales resultados\n",
        "\n",
        "print(\"segun los datos estos son los clientes que tienen un rendimiento mayor al 5%:\")\n",
        "for cliente in portafolio:\n",
        "    rendimiento = portafolio[cliente][\"rendimiento\"]\n",
        "    if rendimiento > 5:\n",
        "      print(cliente)\n"
      ],
      "metadata": {
        "id": "ZkVp-qTJWHiW",
        "colab": {
          "base_uri": "https://localhost:8080/"
        },
        "outputId": "821753e6-5b48-421a-b723-20214afa2fe5"
      },
      "execution_count": 53,
      "outputs": [
        {
          "output_type": "stream",
          "name": "stdout",
          "text": [
            "segun los datos estos son los clientes que tienen un rendimiento mayor al 5%:\n",
            "Juan Perez\n",
            "Maria Rodriguez\n",
            "Ana Gomez\n"
          ]
        }
      ]
    },
    {
      "cell_type": "markdown",
      "source": [
        "***Parte 3*** : Hacemos calculos utilizando ciclos o flujos de control (ejemplo dado)"
      ],
      "metadata": {
        "id": "Fyqy1g8wKSIf"
      }
    },
    {
      "cell_type": "code",
      "source": [
        "# El codigo nos muestra el total de la suma de los rendimietos de cada cliente\n",
        "# y suma tan solo el total por lo que el print esta por fuera del ciclo for en la identacion\n",
        "\n",
        "rendimiento_total = 0\n",
        "for cliente, datos in portafolio.items():\n",
        "    rendimiento_cliente = (datos[\"monto_invertido\"] * datos[\"rendimiento\"]) / 100\n",
        "    rendimiento_total += rendimiento_cliente\n",
        "\n",
        "print(f\"El rendimiento total del portafolio es: ${rendimiento_total:.2f}\")"
      ],
      "metadata": {
        "colab": {
          "base_uri": "https://localhost:8080/"
        },
        "id": "Nh15S2oVK-HB",
        "outputId": "f7987e82-18e0-4db9-9a24-cdf1d93c2132"
      },
      "execution_count": 54,
      "outputs": [
        {
          "output_type": "stream",
          "name": "stdout",
          "text": [
            "El rendimiento total del portafolio es: $3600.00\n"
          ]
        }
      ]
    },
    {
      "cell_type": "markdown",
      "source": [
        "Realizamos el mismo ejercicio pero ahora mostrando paso a paso la acumulación\n",
        "de los rendimientos por cada cliente"
      ],
      "metadata": {
        "id": "AUukgMvi0ylQ"
      }
    },
    {
      "cell_type": "code",
      "source": [
        "# Este es una manera de hacerlo si queremos ver como se va acumulando la suma de\n",
        "# cada rendimiento por cliente durante cada iteración en el ciclo for\n",
        "\n",
        "rendimiento_total = 0\n",
        "n = 1  # creamos un contador para la iteración (inciando en 1)\n",
        "\n",
        "# reocrremos el diccionario que llamamos portafolio\n",
        "for cliente, datos in portafolio.items():\n",
        "    rendimiento_cliente = (datos[\"monto_invertido\"] * datos[\"rendimiento\"]) / 100\n",
        "    rendimiento_total += rendimiento_cliente\n",
        "\n",
        "    # Imprimir el rendimiento acumulado después de cada iteración\n",
        "    print(\"\\n\")\n",
        "    print(f\"cliente {n} :\")\n",
        "    print(\"\\n\")\n",
        "    print(f\"  Rendimiento del cliente {n}: ${rendimiento_cliente:.2f}\")\n",
        "    print(\"\\n\")\n",
        "    print(f\"  Rendimiento acumulado hasta el cliente {n}: ${rendimiento_total:.2f}\")\n",
        "\n",
        "    # Agregamos comentarios que expliquen lo que sucede en cada iteración, teniendo en\n",
        "    # cuenta que al ejecutar el ciclo for, n va tomando otro valor y se ejecuta una\n",
        "    # linea distinta.\n",
        "\n",
        "    print(\"\\n\")\n",
        "    if   n== 1:\n",
        "        print(\"  Comentario: Este es el rendimiento del primer cliente.\")\n",
        "    elif n == 2:\n",
        "        print(\"  Comentario: Esta es la suma del rendimiento del primer y segundo cliente.\")\n",
        "    elif n == 3:\n",
        "        print(\"  Comentario: Esta es la suma del rendimiento de los tres primeros clientes.\")\n",
        "    elif n == 4:\n",
        "        print(\"  Comentario: Esta es la suma del rendimiento de todos los clientes.\")\n",
        "\n",
        "    n += 1  # tenemos que hacer este contador para que al final de la ejecuón\n",
        "            # me sume una unidad mas\n",
        "print(\"\\n\")\n",
        "# Al final, imprime el rendimiento total del portafolio (por fuera del ciclo for)\n",
        "print(f\"\\nEl rendimiento total del portafolio dado es: ${rendimiento_total:.2f}\")\n"
      ],
      "metadata": {
        "id": "Pl0A2zuzezPW",
        "colab": {
          "base_uri": "https://localhost:8080/"
        },
        "outputId": "0fb07193-bc7c-4731-b2eb-b68acb8597d5"
      },
      "execution_count": 55,
      "outputs": [
        {
          "output_type": "stream",
          "name": "stdout",
          "text": [
            "\n",
            "\n",
            "cliente 1 :\n",
            "\n",
            "\n",
            "  Rendimiento del cliente 1: $550.00\n",
            "\n",
            "\n",
            "  Rendimiento acumulado hasta el cliente 1: $550.00\n",
            "\n",
            "\n",
            "  Comentario: Este es el rendimiento del primer cliente.\n",
            "\n",
            "\n",
            "cliente 2 :\n",
            "\n",
            "\n",
            "  Rendimiento del cliente 2: $900.00\n",
            "\n",
            "\n",
            "  Rendimiento acumulado hasta el cliente 2: $1450.00\n",
            "\n",
            "\n",
            "  Comentario: Esta es la suma del rendimiento del primer y segundo cliente.\n",
            "\n",
            "\n",
            "cliente 3 :\n",
            "\n",
            "\n",
            "  Rendimiento del cliente 3: $800.00\n",
            "\n",
            "\n",
            "  Rendimiento acumulado hasta el cliente 3: $2250.00\n",
            "\n",
            "\n",
            "  Comentario: Esta es la suma del rendimiento de los tres primeros clientes.\n",
            "\n",
            "\n",
            "cliente 4 :\n",
            "\n",
            "\n",
            "  Rendimiento del cliente 4: $1350.00\n",
            "\n",
            "\n",
            "  Rendimiento acumulado hasta el cliente 4: $3600.00\n",
            "\n",
            "\n",
            "  Comentario: Esta es la suma del rendimiento de todos los clientes.\n",
            "\n",
            "\n",
            "\n",
            "El rendimiento total del portafolio dado es: $3600.00\n"
          ]
        }
      ]
    },
    {
      "cell_type": "markdown",
      "source": [
        "Vamos a encontrar el mayor rendimiento que presenta el ejercicio, mostrando uno por uno cuales fueron los rendimientos obtenidos por cada cliente y si este supera el de su similar\n",
        "\n",
        "\n",
        "\n"
      ],
      "metadata": {
        "id": "mAar4L7y1LUK"
      }
    },
    {
      "cell_type": "code",
      "source": [
        "# Declaramos 2 variables que almacenen el valor del rendimiento mas alto y el\n",
        "# nombre del cliente con la mayor rentabilidad (inician en 0 por que aún no\n",
        "# se corre el for y los valores van a ser dados por el diccionario)\n",
        "\n",
        "may_rent = 0\n",
        "cliente_may_rent = \"\"\n",
        "\n",
        "print(\"evaluación del cliente con mayor rendimiento:\\n\")\n",
        "\n",
        "for cliente, datos in portafolio.items():\n",
        "    rendimiento_cliente = (datos[\"monto_invertido\"] * datos[\"rendimiento\"]) / 100\n",
        "\n",
        "# Se imprimen los valores de cada cliente con el fin de que el espectador, pueda\n",
        "# comprender el ejercicio\n",
        "\n",
        "    print(\"\\n\")\n",
        "    print(f\"Cliente evaluado: {cliente}\")\n",
        "    print(\"\\n\")\n",
        "    print(f\"  Monto invertido: ${datos['monto_invertido']}\")\n",
        "    print(f\"  Rendimiento (%): {datos['rendimiento']}%\")\n",
        "    print(f\"  Rendimiento en dólares: ${rendimiento_cliente:.2f}\")\n",
        "\n",
        "# Se crea un condicional que analiza cuando el rendimiento del cliente es mayor\n",
        "# a la rentabilidad y si se cumple esta condición le asigne el rendimiento del\n",
        "# cliente hayado a la variable \"mayor_rentabilidad\" y la clave cliente a la variable\n",
        "# cliente_mayor_rentabilidad, y, asi de forma sucesiva hasta culminar el for.\n",
        "\n",
        "    if rendimiento_cliente > may_rent:\n",
        "        print(f\"{cliente} tiene un rendimiento mayor que {cliente_may_rent}, porque (${rendimiento_cliente:.2f} > ${may_rent:.2f})\")\n",
        "        print(\" Se actualiza el cliente con mayor rendimiento.\\n\")\n",
        "        may_rent = rendimiento_cliente\n",
        "        cliente_may_rent = cliente\n",
        "\n",
        "# Cuando el rendimiento_cliente es menor a mayor_rentabilidad se imprime el else\n",
        "# y el valor de la variable mayor_rentabilidad conserva el del cliente anterior\n",
        "\n",
        "    else:\n",
        "        print(f\"{cliente} NO supera el rendimiento de {cliente_may_rent}, porque (${rendimiento_cliente:.2f} <= ${may_rent:.2f})\\n\")\n",
        "        print(\" Se mantiene el cliente con mayor rendimiento anterior\\n\")\n",
        "\n",
        "# Como el print esta identado por fuera del ciclo for, se imprime el ultimo valor que han\n",
        "# tomado las variables \"cliente_mayor_rentabilidad y \"mayor_rentabilidad\"\n",
        "\n",
        "print(f\"\\nEl cliente con el mayor rendimiento es: {cliente_may_rent}, con un rendimiento de ${may_rent:.2f}\")\n"
      ],
      "metadata": {
        "id": "a4tjrgAfoNyU",
        "colab": {
          "base_uri": "https://localhost:8080/"
        },
        "outputId": "a38ab65d-f6dc-4f22-ff67-23657ca16eff"
      },
      "execution_count": 56,
      "outputs": [
        {
          "output_type": "stream",
          "name": "stdout",
          "text": [
            "evaluación del cliente con mayor rendimiento:\n",
            "\n",
            "\n",
            "\n",
            "Cliente evaluado: Juan Perez\n",
            "\n",
            "\n",
            "  Monto invertido: $10000\n",
            "  Rendimiento (%): 5.5%\n",
            "  Rendimiento en dólares: $550.00\n",
            "Juan Perez tiene un rendimiento mayor que , porque ($550.00 > $0.00)\n",
            " Se actualiza el cliente con mayor rendimiento.\n",
            "\n",
            "\n",
            "\n",
            "Cliente evaluado: Maria Rodriguez\n",
            "\n",
            "\n",
            "  Monto invertido: $15000\n",
            "  Rendimiento (%): 6.0%\n",
            "  Rendimiento en dólares: $900.00\n",
            "Maria Rodriguez tiene un rendimiento mayor que Juan Perez, porque ($900.00 > $550.00)\n",
            " Se actualiza el cliente con mayor rendimiento.\n",
            "\n",
            "\n",
            "\n",
            "Cliente evaluado: Carlos Lopez\n",
            "\n",
            "\n",
            "  Monto invertido: $20000\n",
            "  Rendimiento (%): 4.0%\n",
            "  Rendimiento en dólares: $800.00\n",
            "Carlos Lopez NO supera el rendimiento de Maria Rodriguez, porque ($800.00 <= $900.00)\n",
            "\n",
            " Se mantiene el cliente con mayor rendimiento anterior\n",
            "\n",
            "\n",
            "\n",
            "Cliente evaluado: Ana Gomez\n",
            "\n",
            "\n",
            "  Monto invertido: $18000\n",
            "  Rendimiento (%): 7.5%\n",
            "  Rendimiento en dólares: $1350.00\n",
            "Ana Gomez tiene un rendimiento mayor que Maria Rodriguez, porque ($1350.00 > $900.00)\n",
            " Se actualiza el cliente con mayor rendimiento.\n",
            "\n",
            "\n",
            "El cliente con el mayor rendimiento es: Ana Gomez, con un rendimiento de $1350.00\n"
          ]
        }
      ]
    },
    {
      "cell_type": "markdown",
      "source": [
        "***Parte 4*** : Modificaciones en el portafolio creado en la primera parte"
      ],
      "metadata": {
        "id": "PYo9yqet-9ql"
      }
    },
    {
      "cell_type": "markdown",
      "source": [
        "Actualización del monto invertido por Carlos Lopez"
      ],
      "metadata": {
        "id": "ZhWT0DwkILFb"
      }
    },
    {
      "cell_type": "code",
      "source": [
        "# debemos actualizar el monto invertido por Carlos Lopez a 25.000 dolares\n",
        "# en nuestro diccionario\n",
        "\n",
        "portafolio[\"Carlos Lopez\"][\"monto_invertido\"] = 25000\n",
        "print(\" Se ha actualizado la inversión de Carlos Lopez a $25,000.\")\n",
        "print(portafolio)"
      ],
      "metadata": {
        "id": "gajJkS3j_J0k",
        "colab": {
          "base_uri": "https://localhost:8080/"
        },
        "outputId": "8fbd63b7-4dd3-43a9-e5f5-41cb0bc3234f"
      },
      "execution_count": 57,
      "outputs": [
        {
          "output_type": "stream",
          "name": "stdout",
          "text": [
            " Se ha actualizado la inversión de Carlos Lopez a $25,000.\n",
            "{'Juan Perez': {'monto_invertido': 10000, 'rendimiento': 5.5}, 'Maria Rodriguez': {'monto_invertido': 15000, 'rendimiento': 6.0}, 'Carlos Lopez': {'monto_invertido': 25000, 'rendimiento': 4.0}, 'Ana Gomez': {'monto_invertido': 18000, 'rendimiento': 7.5}}\n"
          ]
        }
      ]
    },
    {
      "cell_type": "markdown",
      "source": [
        "Añadir un nuevo cliente al portafolio"
      ],
      "metadata": {
        "id": "A0gTPLHpISu9"
      }
    },
    {
      "cell_type": "code",
      "source": [
        "# podemos hacerlo, convirtiendo el diccionario en una lista, agregamos el nuevo cliente\n",
        "# y, posteriormente volvemos a convertir la lista en un diccionario\n",
        "\n",
        "clientes = []\n",
        "montos_invertidos = []\n",
        "rendimientos = []\n",
        "\n",
        "for nombre in portafolio:\n",
        "    clientes.append(nombre)\n",
        "    montos_invertidos.append(portafolio[nombre][\"monto_invertido\"])\n",
        "    rendimientos.append(portafolio[nombre][\"rendimiento\"])\n",
        "\n",
        "print(clientes)\n",
        "print(\"\\n\")\n",
        "print(montos_invertidos)\n",
        "print(\"\\n\")\n",
        "print(rendimientos)\n",
        "\n",
        "# después agregamos al cliente con su inversion y rendimiento en cada una de las\n",
        "# de las diferentes listas creadas\n",
        "\n",
        "clientes.append(\"Laura Fernandez\")\n",
        "montos_invertidos.append(22000)\n",
        "rendimientos.append(6.8)\n",
        "\n",
        "print(\"\\n\")\n",
        "print(clientes)\n",
        "print(\"\\n\")\n",
        "print(montos_invertidos)\n",
        "print(\"\\n\")\n",
        "print(rendimientos)\n",
        "\n",
        "# Por ultimo, volvemos a almacenar los datos contenidos en las listas en el\n",
        "# diccionario que declaramos como portafolio\n",
        "\n",
        "portafolio = {}\n",
        "\n",
        "for i in range(len(clientes)):\n",
        "    portafolio[clientes[i]] = {\n",
        "        \"monto\": montos_invertidos[i],\n",
        "        \"rendimiento\": rendimientos[i]\n",
        "    }\n",
        "\n",
        "print(\"\\n\")\n",
        "print(portafolio)\n",
        "print(type(portafolio))\n",
        "\n"
      ],
      "metadata": {
        "colab": {
          "base_uri": "https://localhost:8080/"
        },
        "id": "B41Unb0kVyke",
        "outputId": "1ee8627e-3d1e-4671-97ae-79d66fa142c9"
      },
      "execution_count": 58,
      "outputs": [
        {
          "output_type": "stream",
          "name": "stdout",
          "text": [
            "['Juan Perez', 'Maria Rodriguez', 'Carlos Lopez', 'Ana Gomez']\n",
            "\n",
            "\n",
            "[10000, 15000, 25000, 18000]\n",
            "\n",
            "\n",
            "[5.5, 6.0, 4.0, 7.5]\n",
            "\n",
            "\n",
            "['Juan Perez', 'Maria Rodriguez', 'Carlos Lopez', 'Ana Gomez', 'Laura Fernandez']\n",
            "\n",
            "\n",
            "[10000, 15000, 25000, 18000, 22000]\n",
            "\n",
            "\n",
            "[5.5, 6.0, 4.0, 7.5, 6.8]\n",
            "\n",
            "\n",
            "{'Juan Perez': {'monto': 10000, 'rendimiento': 5.5}, 'Maria Rodriguez': {'monto': 15000, 'rendimiento': 6.0}, 'Carlos Lopez': {'monto': 25000, 'rendimiento': 4.0}, 'Ana Gomez': {'monto': 18000, 'rendimiento': 7.5}, 'Laura Fernandez': {'monto': 22000, 'rendimiento': 6.8}}\n",
            "<class 'dict'>\n"
          ]
        }
      ]
    },
    {
      "cell_type": "markdown",
      "source": [
        "Remover a un cliente del portafolio"
      ],
      "metadata": {
        "id": "T8yMXmaoIrSF"
      }
    },
    {
      "cell_type": "code",
      "source": [
        "# Eliminar a Ana Gomez del diccionario portafolio de forma directa\n",
        "if \"Ana Gomez\" in portafolio:\n",
        "    del portafolio[\"Ana Gomez\"]\n",
        "    print(\"Se ha eliminado a Ana Gomez del portafolio.\")\n",
        "\n",
        "\n",
        "# 4. Imprimir el portafolio final\n",
        "print(\"Portafolio con cambios hechos:\")\n",
        "print(\"\\n\")\n",
        "for cliente in portafolio:\n",
        "    print(f\"{cliente}: Inversión ${portafolio[cliente]['monto']}, Rendimiento {portafolio[cliente]['rendimiento']}%\")"
      ],
      "metadata": {
        "id": "rV7mj28VIy3V",
        "colab": {
          "base_uri": "https://localhost:8080/"
        },
        "outputId": "10b162f5-fe76-46ed-e72a-fcc1cfed3732"
      },
      "execution_count": 59,
      "outputs": [
        {
          "output_type": "stream",
          "name": "stdout",
          "text": [
            "Se ha eliminado a Ana Gomez del portafolio.\n",
            "Portafolio con cambios hechos:\n",
            "\n",
            "\n",
            "Juan Perez: Inversión $10000, Rendimiento 5.5%\n",
            "Maria Rodriguez: Inversión $15000, Rendimiento 6.0%\n",
            "Carlos Lopez: Inversión $25000, Rendimiento 4.0%\n",
            "Laura Fernandez: Inversión $22000, Rendimiento 6.8%\n"
          ]
        }
      ]
    }
  ]
}